{
 "cells": [
  {
   "cell_type": "code",
   "execution_count": null,
   "metadata": {},
   "outputs": [],
   "source": [
    "!pip3 install -r requirements.txt\n",
    "!python3 -m spacy download en_core_web_sm"
   ]
  },
  {
   "cell_type": "code",
   "execution_count": null,
   "metadata": {},
   "outputs": [],
   "source": [
    "from run_pipeline import Text2UML"
   ]
  },
  {
   "cell_type": "code",
   "execution_count": null,
   "metadata": {},
   "outputs": [],
   "source": [
    "input_text = '''\n",
    "Romano's is the finest Italian restaurant in the city.\n",
    "Unless you are a celebrity or a good friend of Romano you will need a reservation.\n",
    "A reservation is made for a specific time, date and number of people.\n",
    "The reservation also captures the name and phone number of the person making the reservation.\n",
    "Each reservation is assigned a unique reservation number.\n",
    "There are two categories of reservations at Romano's: individual reservations and banquet reservations.\n",
    "Additional reservation information captured when an individual makes a reservation includes seating preference (inside or patio) and smoking preference (smoking or nonsmoking).\n",
    "Additional reservation information captured for banquet reservations includes the group name and the method of payment.\n",
    "Seating at Romano's is limited.\n",
    "Romano's has a fixed number of tables.\n",
    "Each table is identified by a unique table number.\n",
    "Each of the tables is further described by a unique free form description such as \"located by the North window\", \"located in front of the fountain\", \"by the kitchen door\".\n",
    "Each table is classified as a 2-person, 4-person or 6-person table.\n",
    "When a reservation is made, Romano associates a specific tal4 number(s) to the reservation.\n",
    "A table can be utilized many times over the evening by many reservations.\n",
    "Romano tends to overbook tables.\n",
    "Therefore, there can be overlapping table reservations.\n",
    "The management structure at Romano's is hierarchical.\n",
    "There are several restaurant managers who report to Romano.\n",
    "The managers are responsible for managing the Maitre'd and the chefs as well as ensuring that the guests have a pleasant dining experience.\n",
    "The Maitre'd is responsible for managing the waiters, bartenders and bus personnel.\n",
    "The Chefs are responsible for managing the cooks and dishwashers.\n",
    "Each person working for Romano's must be classified as either a manager, Maitre'd, waiter ,bartender, chef, cook, bus person or dishwasher.\n",
    "Additional information maintained by Romano's for each person includes the persons name, date of birth and drivers license number.\n",
    "When the reservation party arrives at Romano's the reservation is assigned to one waiter.\n",
    "A waiter can be assigned to many reservations during the course of the evening.\n",
    "The menu at Romano's is exquisite.\n",
    "There are many exciting and exotic items.\n",
    "Each menu item is identified by a unique menu item number.\n",
    "Information maintained by Romano's for each menu item includes an item description of (e.g. \"chicken marsala\", \"fish soup\", \"endive salad\",\"1988 Merlot wine\", etc.), and item prep time.\n",
    "Each menu item is classified by Romano's as \"appetizer\", \"entree\", \"dessert\" or \"beverage\".\n",
    "The price of each menu item can vary based on the time of day.\n",
    "For example, some of the menu items have different lunch and dinner prices.\n",
    "Some of the menu items change prices for happy hour.\n",
    "In order to calculate the check at the end of the dinner, the waiter maintains a list, by reservation number, of the menu items ordered and the time that the menu item was ordered.\n",
    "In other words, each reservation can be associated with many menu items and a menu item can be associated with many reservations.\n",
    "In addition to menu items, Romano's maintains a list of the food items that are utilized by the restaurant such as chicken, mushrooms, bread sticks, red sauce, cream sauce, etc.\n",
    "Food items are utilized in the preparation of menu items.\n",
    "Each food item-is identified by a unique food item number.\n",
    "'''"
   ]
  },
  {
   "cell_type": "code",
   "execution_count": null,
   "metadata": {},
   "outputs": [],
   "source": [
    "request = Text2UML(input_text = input_text)"
   ]
  },
  {
   "cell_type": "markdown",
   "metadata": {},
   "source": [
    "## Summarization"
   ]
  },
  {
   "cell_type": "code",
   "execution_count": null,
   "metadata": {},
   "outputs": [],
   "source": [
    "request.summarization.get_filtered_entities()"
   ]
  },
  {
   "cell_type": "code",
   "execution_count": null,
   "metadata": {},
   "outputs": [],
   "source": [
    "request.summarization.get_filtered_text(['customer', 'vehicle', 'truck'])"
   ]
  },
  {
   "cell_type": "markdown",
   "metadata": {},
   "source": [
    "## Bucketing"
   ]
  },
  {
   "cell_type": "code",
   "execution_count": null,
   "metadata": {},
   "outputs": [],
   "source": [
    "request.bucketing.apply_bucketing()"
   ]
  },
  {
   "cell_type": "markdown",
   "metadata": {},
   "source": [
    "## Metadata classification"
   ]
  },
  {
   "cell_type": "code",
   "execution_count": null,
   "metadata": {},
   "outputs": [],
   "source": [
    "request.classification.get_prediction()"
   ]
  }
 ],
 "metadata": {
  "kernelspec": {
   "display_name": "Python 3",
   "language": "python",
   "name": "python3"
  },
  "language_info": {
   "codemirror_mode": {
    "name": "ipython",
    "version": 3
   },
   "file_extension": ".py",
   "mimetype": "text/x-python",
   "name": "python",
   "nbconvert_exporter": "python",
   "pygments_lexer": "ipython3",
   "version": "3.9.7"
  }
 },
 "nbformat": 4,
 "nbformat_minor": 4
}
