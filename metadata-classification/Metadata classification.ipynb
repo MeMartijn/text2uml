{
 "cells": [
  {
   "cell_type": "code",
   "execution_count": 1,
   "metadata": {},
   "outputs": [],
   "source": [
    "import pandas as pd\n",
    "import numpy as np\n",
    "\n",
    "# Adapted from https://github.com/MeMartijn/FakeNewsDetection\n",
    "from data_loader import DataLoader  \n",
    "from classifiers import Classifiers"
   ]
  },
  {
   "cell_type": "code",
   "execution_count": 2,
   "metadata": {},
   "outputs": [
    {
     "name": "stderr",
     "output_type": "stream",
     "text": [
      "/Users/martijn/opt/anaconda3/lib/python3.8/site-packages/tqdm/std.py:697: FutureWarning: The Panel class is removed from pandas. Accessing it from the top-level namespace will also be removed in the next version\n",
      "  from pandas import Panel\n"
     ]
    }
   ],
   "source": [
    "data = DataLoader()"
   ]
  },
  {
   "cell_type": "code",
   "execution_count": 3,
   "metadata": {},
   "outputs": [],
   "source": [
    "bert = data.get_bert()"
   ]
  },
  {
   "cell_type": "code",
   "execution_count": 4,
   "metadata": {},
   "outputs": [
    {
     "data": {
      "text/html": [
       "<div>\n",
       "<style scoped>\n",
       "    .dataframe tbody tr th:only-of-type {\n",
       "        vertical-align: middle;\n",
       "    }\n",
       "\n",
       "    .dataframe tbody tr th {\n",
       "        vertical-align: top;\n",
       "    }\n",
       "\n",
       "    .dataframe thead th {\n",
       "        text-align: right;\n",
       "    }\n",
       "</style>\n",
       "<table border=\"1\" class=\"dataframe\">\n",
       "  <thead>\n",
       "    <tr style=\"text-align: right;\">\n",
       "      <th></th>\n",
       "      <th>name</th>\n",
       "      <th>type</th>\n",
       "      <th>embedding</th>\n",
       "    </tr>\n",
       "  </thead>\n",
       "  <tbody>\n",
       "    <tr>\n",
       "      <th>0</th>\n",
       "      <td>meta file</td>\n",
       "      <td>class</td>\n",
       "      <td>[[[1.7955303, -0.39878398, 0.8161868, -0.49417...</td>\n",
       "    </tr>\n",
       "    <tr>\n",
       "      <th>1</th>\n",
       "      <td>meta source</td>\n",
       "      <td>class</td>\n",
       "      <td>[[[1.63934, -0.27256083, 1.0740907, -0.5459729...</td>\n",
       "    </tr>\n",
       "    <tr>\n",
       "      <th>2</th>\n",
       "      <td>property</td>\n",
       "      <td>class</td>\n",
       "      <td>[[[0.63757765, -0.021747919, 0.14703423, -0.97...</td>\n",
       "    </tr>\n",
       "    <tr>\n",
       "      <th>3</th>\n",
       "      <td>set</td>\n",
       "      <td>class</td>\n",
       "      <td>[[[0.45664948, 0.22363535, 0.6579699, -0.63327...</td>\n",
       "    </tr>\n",
       "    <tr>\n",
       "      <th>4</th>\n",
       "      <td>item</td>\n",
       "      <td>class</td>\n",
       "      <td>[[[0.4551617, -0.6158074, 0.12454513, -0.97725...</td>\n",
       "    </tr>\n",
       "    <tr>\n",
       "      <th>...</th>\n",
       "      <td>...</td>\n",
       "      <td>...</td>\n",
       "      <td>...</td>\n",
       "    </tr>\n",
       "    <tr>\n",
       "      <th>498455</th>\n",
       "      <td>volume</td>\n",
       "      <td>attribute</td>\n",
       "      <td>[[[-0.1947565, 0.18598285, 0.2679827, -0.69112...</td>\n",
       "    </tr>\n",
       "    <tr>\n",
       "      <th>498456</th>\n",
       "      <td>unit</td>\n",
       "      <td>attribute</td>\n",
       "      <td>[[[-0.237941, 0.035174966, -0.36673543, -1.065...</td>\n",
       "    </tr>\n",
       "    <tr>\n",
       "      <th>498457</th>\n",
       "      <td>item name</td>\n",
       "      <td>attribute</td>\n",
       "      <td>[[[0.8360246, -0.51640177, 0.71521986, -0.8962...</td>\n",
       "    </tr>\n",
       "    <tr>\n",
       "      <th>498458</th>\n",
       "      <td>std volume</td>\n",
       "      <td>attribute</td>\n",
       "      <td>[[[0.08100525, -0.8526971, 0.22229162, -0.4153...</td>\n",
       "    </tr>\n",
       "    <tr>\n",
       "      <th>498459</th>\n",
       "      <td>std unit</td>\n",
       "      <td>attribute</td>\n",
       "      <td>[[[0.07411262, -0.8986927, 0.029221723, -0.483...</td>\n",
       "    </tr>\n",
       "  </tbody>\n",
       "</table>\n",
       "<p>498460 rows × 3 columns</p>\n",
       "</div>"
      ],
      "text/plain": [
       "               name       type  \\\n",
       "0         meta file      class   \n",
       "1       meta source      class   \n",
       "2          property      class   \n",
       "3               set      class   \n",
       "4              item      class   \n",
       "...             ...        ...   \n",
       "498455       volume  attribute   \n",
       "498456         unit  attribute   \n",
       "498457    item name  attribute   \n",
       "498458   std volume  attribute   \n",
       "498459     std unit  attribute   \n",
       "\n",
       "                                                embedding  \n",
       "0       [[[1.7955303, -0.39878398, 0.8161868, -0.49417...  \n",
       "1       [[[1.63934, -0.27256083, 1.0740907, -0.5459729...  \n",
       "2       [[[0.63757765, -0.021747919, 0.14703423, -0.97...  \n",
       "3       [[[0.45664948, 0.22363535, 0.6579699, -0.63327...  \n",
       "4       [[[0.4551617, -0.6158074, 0.12454513, -0.97725...  \n",
       "...                                                   ...  \n",
       "498455  [[[-0.1947565, 0.18598285, 0.2679827, -0.69112...  \n",
       "498456  [[[-0.237941, 0.035174966, -0.36673543, -1.065...  \n",
       "498457  [[[0.8360246, -0.51640177, 0.71521986, -0.8962...  \n",
       "498458  [[[0.08100525, -0.8526971, 0.22229162, -0.4153...  \n",
       "498459  [[[0.07411262, -0.8986927, 0.029221723, -0.483...  \n",
       "\n",
       "[498460 rows x 3 columns]"
      ]
     },
     "execution_count": 4,
     "metadata": {},
     "output_type": "execute_result"
    }
   ],
   "source": [
    "bert"
   ]
  },
  {
   "cell_type": "code",
   "execution_count": 20,
   "metadata": {},
   "outputs": [
    {
     "name": "stdout",
     "output_type": "stream",
     "text": [
      "Applying max pooling to the dataset...\n"
     ]
    },
    {
     "data": {
      "application/vnd.jupyter.widget-view+json": {
       "model_id": "92b92adfe4234a9a9dc48416df607b3b",
       "version_major": 2,
       "version_minor": 0
      },
      "text/plain": [
       "HBox(children=(HTML(value=''), FloatProgress(value=0.0, max=498460.0), HTML(value='')))"
      ]
     },
     "metadata": {},
     "output_type": "display_data"
    },
    {
     "name": "stdout",
     "output_type": "stream",
     "text": [
      "\n"
     ]
    },
    {
     "name": "stderr",
     "output_type": "stream",
     "text": [
      "/Users/martijn/opt/anaconda3/lib/python3.8/site-packages/pandas/core/generic.py:5168: SettingWithCopyWarning: \n",
      "A value is trying to be set on a copy of a slice from a DataFrame.\n",
      "Try using .loc[row_indexer,col_indexer] = value instead\n",
      "\n",
      "See the caveats in the documentation: https://pandas.pydata.org/pandas-docs/stable/user_guide/indexing.html#returning-a-view-versus-a-copy\n",
      "  self[name] = value\n"
     ]
    }
   ],
   "source": [
    "pooled_df = data.apply_pooling('max', bert[['embedding', 'type']])"
   ]
  },
  {
   "cell_type": "code",
   "execution_count": 21,
   "metadata": {},
   "outputs": [],
   "source": [
    "from sklearn.model_selection import train_test_split\n",
    "from sklearn.linear_model import LogisticRegression\n",
    "from sklearn.svm import LinearSVC\n",
    "from sklearn.ensemble import GradientBoostingClassifier\n",
    "from hypopt import GridSearch"
   ]
  },
  {
   "cell_type": "code",
   "execution_count": 23,
   "metadata": {},
   "outputs": [],
   "source": [
    "X_train, X_test, y_train, y_test = train_test_split(pooled_df['embedding'].values, pooled_df['type'].values, test_size=0.25, random_state=0)"
   ]
  },
  {
   "cell_type": "code",
   "execution_count": null,
   "metadata": {},
   "outputs": [],
   "source": [
    "param_grid = {'C': [0.001, 0.01, 0.1, 1, 10]}\n",
    "gs = GridSearch(model = LogisticRegression(penalty = 'l2'), param_grid = param_grid)\n",
    "gs.fit(X_train, y_train)\n",
    "\n",
    "score = gs.score(X_test, y_test)\n",
    "score"
   ]
  }
 ],
 "metadata": {
  "kernelspec": {
   "display_name": "Python 3",
   "language": "python",
   "name": "python3"
  },
  "language_info": {
   "codemirror_mode": {
    "name": "ipython",
    "version": 3
   },
   "file_extension": ".py",
   "mimetype": "text/x-python",
   "name": "python",
   "nbconvert_exporter": "python",
   "pygments_lexer": "ipython3",
   "version": "3.8.5"
  }
 },
 "nbformat": 4,
 "nbformat_minor": 4
}
