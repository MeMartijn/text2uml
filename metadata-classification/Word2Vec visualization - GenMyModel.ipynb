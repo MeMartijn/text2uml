{
 "cells": [
  {
   "cell_type": "code",
   "execution_count": 1,
   "metadata": {},
   "outputs": [],
   "source": [
    "import pandas as pd\n",
    "import numpy as np\n",
    "import json\n",
    "import gensim\n",
    "from nltk.tokenize import word_tokenize\n",
    "import fasttext\n",
    "import time\n",
    "from sklearn.manifold import TSNE\n",
    "from sklearn.decomposition import PCA\n",
    "\n",
    "import matplotlib.pyplot as plt"
   ]
  },
  {
   "cell_type": "code",
   "execution_count": 2,
   "metadata": {},
   "outputs": [],
   "source": [
    "with open('../data/genmymodel_uml_extracted_metadata_annotated.json') as json_file:\n",
    "    data = json.load(json_file)\n",
    "\n",
    "    english_data = {\n",
    "        file: data[file]\n",
    "        for file in data.keys()\n",
    "        if data[file]['lang'] == '__label__en'\n",
    "    }"
   ]
  },
  {
   "cell_type": "code",
   "execution_count": 18,
   "metadata": {},
   "outputs": [],
   "source": [
    "# Store all classes and attributes independent of eachother\n",
    "all_classes = []\n",
    "all_attrs = []\n",
    "\n",
    "# Loop over all metadata and append to proper list\n",
    "for file, metadata in english_data.items():\n",
    "    if 'classes' in metadata.keys():\n",
    "        all_classes.append(metadata['classes'])\n",
    "\n",
    "    if 'attributes' in metadata.keys():\n",
    "        all_attrs.append(metadata['attributes'])\n",
    "\n",
    "# Create big dataframe with all values together\n",
    "flatten = lambda t: [item for sublist in t for item in sublist]\n",
    "df = pd.DataFrame(list(map(lambda x: [x.strip(), 'class'], flatten(all_classes))) + list(map(lambda x: [x.strip(), 'attribute'], flatten(all_attrs))), columns=['name', 'type'])"
   ]
  },
  {
   "cell_type": "code",
   "execution_count": 19,
   "metadata": {},
   "outputs": [],
   "source": [
    "df.drop_duplicates(keep=False, inplace=True)"
   ]
  },
  {
   "cell_type": "code",
   "execution_count": 20,
   "metadata": {},
   "outputs": [],
   "source": [
    "df['tokenized_length'] = df['name'].apply(lambda x: len(word_tokenize(x)))\n",
    "df = df[df['tokenized_length'] == 1]"
   ]
  },
  {
   "cell_type": "code",
   "execution_count": 21,
   "metadata": {},
   "outputs": [
    {
     "name": "stderr",
     "output_type": "stream",
     "text": [
      "Warning : `load_model` does not return WordVectorModel or SupervisedModel any more, but a `FastText` object which is very similar.\n"
     ]
    }
   ],
   "source": [
    "PRETRAINED_MODEL_PATH = '../data/lid.176.bin'\n",
    "\n",
    "model = fasttext.load_model(PRETRAINED_MODEL_PATH)"
   ]
  },
  {
   "cell_type": "code",
   "execution_count": 24,
   "metadata": {},
   "outputs": [],
   "source": [
    "df['lang'] = df['name'].apply(lambda x: model.predict(x)[0][0])"
   ]
  },
  {
   "cell_type": "code",
   "execution_count": 25,
   "metadata": {},
   "outputs": [],
   "source": [
    "df = df[df['lang'] == '__label__en']"
   ]
  },
  {
   "cell_type": "code",
   "execution_count": 26,
   "metadata": {},
   "outputs": [],
   "source": [
    "vocab = [word_tokenize(row) for row in df['name'].to_list()]"
   ]
  },
  {
   "cell_type": "code",
   "execution_count": 28,
   "metadata": {},
   "outputs": [
    {
     "data": {
      "text/html": [
       "<div>\n",
       "<style scoped>\n",
       "    .dataframe tbody tr th:only-of-type {\n",
       "        vertical-align: middle;\n",
       "    }\n",
       "\n",
       "    .dataframe tbody tr th {\n",
       "        vertical-align: top;\n",
       "    }\n",
       "\n",
       "    .dataframe thead th {\n",
       "        text-align: right;\n",
       "    }\n",
       "</style>\n",
       "<table border=\"1\" class=\"dataframe\">\n",
       "  <thead>\n",
       "    <tr style=\"text-align: right;\">\n",
       "      <th></th>\n",
       "      <th>name</th>\n",
       "      <th>type</th>\n",
       "      <th>tokenized_length</th>\n",
       "      <th>lang</th>\n",
       "    </tr>\n",
       "  </thead>\n",
       "  <tbody>\n",
       "    <tr>\n",
       "      <th>289</th>\n",
       "      <td>obsever</td>\n",
       "      <td>class</td>\n",
       "      <td>1</td>\n",
       "      <td>__label__en</td>\n",
       "    </tr>\n",
       "    <tr>\n",
       "      <th>455</th>\n",
       "      <td>core.php</td>\n",
       "      <td>class</td>\n",
       "      <td>1</td>\n",
       "      <td>__label__en</td>\n",
       "    </tr>\n",
       "    <tr>\n",
       "      <th>457</th>\n",
       "      <td>core.model.php</td>\n",
       "      <td>class</td>\n",
       "      <td>1</td>\n",
       "      <td>__label__en</td>\n",
       "    </tr>\n",
       "    <tr>\n",
       "      <th>716</th>\n",
       "      <td>fascia</td>\n",
       "      <td>class</td>\n",
       "      <td>1</td>\n",
       "      <td>__label__en</td>\n",
       "    </tr>\n",
       "    <tr>\n",
       "      <th>745</th>\n",
       "      <td>maid</td>\n",
       "      <td>class</td>\n",
       "      <td>1</td>\n",
       "      <td>__label__en</td>\n",
       "    </tr>\n",
       "    <tr>\n",
       "      <th>...</th>\n",
       "      <td>...</td>\n",
       "      <td>...</td>\n",
       "      <td>...</td>\n",
       "      <td>...</td>\n",
       "    </tr>\n",
       "    <tr>\n",
       "      <th>2348354</th>\n",
       "      <td>fghfh</td>\n",
       "      <td>attribute</td>\n",
       "      <td>1</td>\n",
       "      <td>__label__en</td>\n",
       "    </tr>\n",
       "    <tr>\n",
       "      <th>2348387</th>\n",
       "      <td>strid</td>\n",
       "      <td>attribute</td>\n",
       "      <td>1</td>\n",
       "      <td>__label__en</td>\n",
       "    </tr>\n",
       "    <tr>\n",
       "      <th>2348392</th>\n",
       "      <td>boreholedetail</td>\n",
       "      <td>attribute</td>\n",
       "      <td>1</td>\n",
       "      <td>__label__en</td>\n",
       "    </tr>\n",
       "    <tr>\n",
       "      <th>2348442</th>\n",
       "      <td>microposts</td>\n",
       "      <td>attribute</td>\n",
       "      <td>1</td>\n",
       "      <td>__label__en</td>\n",
       "    </tr>\n",
       "    <tr>\n",
       "      <th>2348446</th>\n",
       "      <td>micropost</td>\n",
       "      <td>attribute</td>\n",
       "      <td>1</td>\n",
       "      <td>__label__en</td>\n",
       "    </tr>\n",
       "  </tbody>\n",
       "</table>\n",
       "<p>22435 rows × 4 columns</p>\n",
       "</div>"
      ],
      "text/plain": [
       "                   name       type  tokenized_length         lang\n",
       "289             obsever      class                 1  __label__en\n",
       "455            core.php      class                 1  __label__en\n",
       "457      core.model.php      class                 1  __label__en\n",
       "716              fascia      class                 1  __label__en\n",
       "745                maid      class                 1  __label__en\n",
       "...                 ...        ...               ...          ...\n",
       "2348354           fghfh  attribute                 1  __label__en\n",
       "2348387           strid  attribute                 1  __label__en\n",
       "2348392  boreholedetail  attribute                 1  __label__en\n",
       "2348442      microposts  attribute                 1  __label__en\n",
       "2348446       micropost  attribute                 1  __label__en\n",
       "\n",
       "[22435 rows x 4 columns]"
      ]
     },
     "execution_count": 28,
     "metadata": {},
     "output_type": "execute_result"
    }
   ],
   "source": [
    "df"
   ]
  },
  {
   "cell_type": "code",
   "execution_count": 29,
   "metadata": {},
   "outputs": [],
   "source": [
    "word2vecSG = gensim.models.Word2Vec(vocab, min_count = 1, window = 5, sg = 1)"
   ]
  },
  {
   "cell_type": "code",
   "execution_count": 30,
   "metadata": {},
   "outputs": [],
   "source": [
    "filtered_df = pd.concat([df[df['type'] == 'class'][:100], df[df['type'] == 'attribute'][:100]])"
   ]
  },
  {
   "cell_type": "code",
   "execution_count": 31,
   "metadata": {},
   "outputs": [
    {
     "data": {
      "text/html": [
       "<div>\n",
       "<style scoped>\n",
       "    .dataframe tbody tr th:only-of-type {\n",
       "        vertical-align: middle;\n",
       "    }\n",
       "\n",
       "    .dataframe tbody tr th {\n",
       "        vertical-align: top;\n",
       "    }\n",
       "\n",
       "    .dataframe thead th {\n",
       "        text-align: right;\n",
       "    }\n",
       "</style>\n",
       "<table border=\"1\" class=\"dataframe\">\n",
       "  <thead>\n",
       "    <tr style=\"text-align: right;\">\n",
       "      <th></th>\n",
       "      <th>name</th>\n",
       "      <th>type</th>\n",
       "      <th>tokenized_length</th>\n",
       "      <th>lang</th>\n",
       "    </tr>\n",
       "  </thead>\n",
       "  <tbody>\n",
       "    <tr>\n",
       "      <th>289</th>\n",
       "      <td>obsever</td>\n",
       "      <td>class</td>\n",
       "      <td>1</td>\n",
       "      <td>__label__en</td>\n",
       "    </tr>\n",
       "    <tr>\n",
       "      <th>455</th>\n",
       "      <td>core.php</td>\n",
       "      <td>class</td>\n",
       "      <td>1</td>\n",
       "      <td>__label__en</td>\n",
       "    </tr>\n",
       "    <tr>\n",
       "      <th>457</th>\n",
       "      <td>core.model.php</td>\n",
       "      <td>class</td>\n",
       "      <td>1</td>\n",
       "      <td>__label__en</td>\n",
       "    </tr>\n",
       "    <tr>\n",
       "      <th>716</th>\n",
       "      <td>fascia</td>\n",
       "      <td>class</td>\n",
       "      <td>1</td>\n",
       "      <td>__label__en</td>\n",
       "    </tr>\n",
       "    <tr>\n",
       "      <th>745</th>\n",
       "      <td>maid</td>\n",
       "      <td>class</td>\n",
       "      <td>1</td>\n",
       "      <td>__label__en</td>\n",
       "    </tr>\n",
       "    <tr>\n",
       "      <th>...</th>\n",
       "      <td>...</td>\n",
       "      <td>...</td>\n",
       "      <td>...</td>\n",
       "      <td>...</td>\n",
       "    </tr>\n",
       "    <tr>\n",
       "      <th>1052542</th>\n",
       "      <td>remider</td>\n",
       "      <td>attribute</td>\n",
       "      <td>1</td>\n",
       "      <td>__label__en</td>\n",
       "    </tr>\n",
       "    <tr>\n",
       "      <th>1053230</th>\n",
       "      <td>taim</td>\n",
       "      <td>attribute</td>\n",
       "      <td>1</td>\n",
       "      <td>__label__en</td>\n",
       "    </tr>\n",
       "    <tr>\n",
       "      <th>1053387</th>\n",
       "      <td>corder</td>\n",
       "      <td>attribute</td>\n",
       "      <td>1</td>\n",
       "      <td>__label__en</td>\n",
       "    </tr>\n",
       "    <tr>\n",
       "      <th>1053440</th>\n",
       "      <td>tild</td>\n",
       "      <td>attribute</td>\n",
       "      <td>1</td>\n",
       "      <td>__label__en</td>\n",
       "    </tr>\n",
       "    <tr>\n",
       "      <th>1053908</th>\n",
       "      <td>entires</td>\n",
       "      <td>attribute</td>\n",
       "      <td>1</td>\n",
       "      <td>__label__en</td>\n",
       "    </tr>\n",
       "  </tbody>\n",
       "</table>\n",
       "<p>200 rows × 4 columns</p>\n",
       "</div>"
      ],
      "text/plain": [
       "                   name       type  tokenized_length         lang\n",
       "289             obsever      class                 1  __label__en\n",
       "455            core.php      class                 1  __label__en\n",
       "457      core.model.php      class                 1  __label__en\n",
       "716              fascia      class                 1  __label__en\n",
       "745                maid      class                 1  __label__en\n",
       "...                 ...        ...               ...          ...\n",
       "1052542         remider  attribute                 1  __label__en\n",
       "1053230            taim  attribute                 1  __label__en\n",
       "1053387          corder  attribute                 1  __label__en\n",
       "1053440            tild  attribute                 1  __label__en\n",
       "1053908         entires  attribute                 1  __label__en\n",
       "\n",
       "[200 rows x 4 columns]"
      ]
     },
     "execution_count": 31,
     "metadata": {},
     "output_type": "execute_result"
    }
   ],
   "source": [
    "filtered_df"
   ]
  },
  {
   "cell_type": "code",
   "execution_count": 32,
   "metadata": {},
   "outputs": [],
   "source": [
    "filtered_df['vector'] = filtered_df['name'].apply(lambda x: word2vecSG.wv.get_vector(x))"
   ]
  },
  {
   "cell_type": "code",
   "execution_count": 33,
   "metadata": {},
   "outputs": [],
   "source": [
    "alternated = []\n",
    "\n",
    "for index in range(int(len(filtered_df) / 2)):\n",
    "    alternated.append(filtered_df[filtered_df['type'] == 'class'].iloc[index].values)\n",
    "    alternated.append(filtered_df[filtered_df['type'] == 'attribute'].iloc[index].values) \n",
    "\n",
    "column_names = filtered_df.columns\n",
    "filtered_df = pd.DataFrame(alternated, columns = column_names)"
   ]
  },
  {
   "cell_type": "code",
   "execution_count": 34,
   "metadata": {},
   "outputs": [
    {
     "data": {
      "image/png": "[encoded data removed]",
      "text/plain": [
       "<Figure size 864x648 with 1 Axes>"
      ]
     },
     "metadata": {
      "needs_background": "light"
     },
     "output_type": "display_data"
    }
   ],
   "source": [
    "# define the words to visualize\n",
    "\n",
    "topterms = {name: 1 for name in filtered_df['name'].to_list()}\n",
    "\n",
    "\n",
    "vectors = filtered_df['vector'].to_list()\n",
    "#tsne = TSNE(n_components=2, random_state=0)\n",
    "#vectors2d = tsne.fit_transform(vectors)\n",
    "pca = PCA(n_components=2, whiten=True)\n",
    "vectors2d = pca.fit(vectors).transform(vectors)\n",
    "#print(vectors2d)\n",
    "plt.figure(figsize=(12,9))\n",
    "alternate = True\n",
    "first = True # color alternation to divide given groups\n",
    "for point, word in zip(vectors2d , topterms):\n",
    "    # plot points\n",
    "    plt.scatter(point[0], point[1], c='r' if first else 'g')\n",
    "    # plot word annotations\n",
    "    plt.annotate(\n",
    "        '',\n",
    "        xy = (point[0], point[1]),\n",
    "        xytext = (-7, -6) if first else (7, -6),\n",
    "        textcoords = 'offset points',\n",
    "        ha = 'right' if first else 'left',\n",
    "        va = 'bottom',\n",
    "        size = \"x-large\"\n",
    "    )\n",
    "    first = not first if alternate else first\n",
    "\n",
    "plt.tight_layout()\n",
    "plt.show()\n",
    "\n"
   ]
  },
  {
   "cell_type": "code",
   "execution_count": 35,
   "metadata": {},
   "outputs": [],
   "source": [
    "model = gensim.models.FastText(vocab, min_count=1)"
   ]
  },
  {
   "cell_type": "code",
   "execution_count": 36,
   "metadata": {},
   "outputs": [],
   "source": [
    "filtered_df['vector'] = filtered_df['name'].apply(lambda x: model.wv.get_vector(x))"
   ]
  },
  {
   "cell_type": "code",
   "execution_count": 37,
   "metadata": {},
   "outputs": [
    {
     "data": {
      "image/png": "[encoded data removed]",
      "text/plain": [
       "<Figure size 864x648 with 1 Axes>"
      ]
     },
     "metadata": {
      "needs_background": "light"
     },
     "output_type": "display_data"
    }
   ],
   "source": [
    "# define the words to visualize\n",
    "\n",
    "topterms = {name: 1 for name in filtered_df['name'].to_list()}\n",
    "\n",
    "\n",
    "vectors = filtered_df['vector'].to_list()\n",
    "#tsne = TSNE(n_components=2, random_state=0)\n",
    "#vectors2d = tsne.fit_transform(vectors)\n",
    "pca = PCA(n_components=2, whiten=True)\n",
    "vectors2d = pca.fit(vectors).transform(vectors)\n",
    "#print(vectors2d)\n",
    "plt.figure(figsize=(12,9))\n",
    "alternate = True\n",
    "first = True # color alternation to divide given groups\n",
    "for point, word in zip(vectors2d , topterms):\n",
    "    # plot points\n",
    "    plt.scatter(point[0], point[1], c='r' if first else 'g')\n",
    "    # plot word annotations\n",
    "    plt.annotate(\n",
    "        '',\n",
    "        xy = (point[0], point[1]),\n",
    "        xytext = (-7, -6) if first else (7, -6),\n",
    "        textcoords = 'offset points',\n",
    "        ha = 'right' if first else 'left',\n",
    "        va = 'bottom',\n",
    "        size = \"x-large\"\n",
    "    )\n",
    "    first = not first if alternate else first\n",
    "\n",
    "plt.tight_layout()\n",
    "plt.show()\n",
    "\n"
   ]
  },
  {
   "cell_type": "code",
   "execution_count": null,
   "metadata": {},
   "outputs": [],
   "source": []
  }
 ],
 "metadata": {
  "kernelspec": {
   "display_name": "Python 3",
   "language": "python",
   "name": "python3"
  },
  "language_info": {
   "codemirror_mode": {
    "name": "ipython",
    "version": 3
   },
   "file_extension": ".py",
   "mimetype": "text/x-python",
   "name": "python",
   "nbconvert_exporter": "python",
   "pygments_lexer": "ipython3",
   "version": "3.8.5"
  }
 },
 "nbformat": 4,
 "nbformat_minor": 4
}
