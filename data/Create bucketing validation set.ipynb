{
 "cells": [
  {
   "cell_type": "code",
   "execution_count": null,
   "id": "b7bbf1b4",
   "metadata": {},
   "outputs": [],
   "source": [
    "import pandas as pd\n",
    "import glob"
   ]
  },
  {
   "cell_type": "code",
   "execution_count": null,
   "id": "7b4c36d0",
   "metadata": {},
   "outputs": [],
   "source": [
    "df = pd.read_csv('validation-set-sentence-labelled.tsv', sep='\\t')"
   ]
  },
  {
   "cell_type": "code",
   "execution_count": null,
   "id": "c1e97f6f",
   "metadata": {},
   "outputs": [],
   "source": [
    "df['doc-sent'] = [str(row['document_ID']) + '-' + str(row['sentence_ID']) for index, row in df.iterrows()]\n",
    "df['structure_focus'].fillna(False, inplace=True)\n",
    "df['process_focus'].fillna(False, inplace=True)\n",
    "df['usecase_focus'].fillna(False, inplace=True)"
   ]
  },
  {
   "cell_type": "code",
   "execution_count": null,
   "id": "e7e2ab57",
   "metadata": {},
   "outputs": [],
   "source": [
    "class Bucketizer:    \n",
    "    def is_important_for_class(self, supersense_df):\n",
    "        # Rule 1: there needs to be at least two nouns in the sentences\n",
    "        if supersense_df['fine_POS_tag'].tolist().count('NN') + supersense_df['fine_POS_tag'].tolist().count('NNP') + supersense_df['fine_POS_tag'].tolist().count('NNS') > 1:\n",
    "            if all(item in supersense_df['dependency_relation'].tolist() for item in ['aux', 'auxpass', 'conj']) and 'verb.cognition' in supersense_df['supersense_category'].tolist():\n",
    "                return True\n",
    "            if all(item in supersense_df['dependency_relation'].tolist() for item in ['pobj', 'prep', 'nsubj']) and all(item in supersense_df['supersense_category'].tolist() for item in ['verb.stative', 'noun.relation']):\n",
    "                return True\n",
    "            if all(item in supersense_df['dependency_relation'].tolist() for item in ['pobj', 'nummod']) and all(item in supersense_df['supersense_category'].tolist() for item in ['verb.stative', 'noun.artifact']) and supersense_df['supersense_category'].tolist().count('verb.stative') > 1:\n",
    "                return True\n",
    "            if all(item in supersense_df['dependency_relation'].tolist() for item in ['nsubj', 'dobj', 'amod']) and 'verb.stative' in supersense_df['supersense_category'].tolist() and 'JJ' in supersense_df['fine_POS_tag'].tolist():\n",
    "                return True\n",
    "            if all(item in supersense_df['dependency_relation'].tolist() for item in ['det', 'nsubj', 'dobj']) and 'verb.possession' in supersense_df['supersense_category'].tolist():\n",
    "                return True\n",
    "            if all(item in supersense_df['dependency_relation'].tolist() for item in ['det', 'nsubj', 'pobj', 'aux']) and 'verb.stative' in supersense_df['supersense_category'].tolist():\n",
    "                return True\n",
    "            if all(item in supersense_df['dependency_relation'].tolist() for item in ['det', 'nsubj', 'pobj', 'aux']) and 'verb.communication' in supersense_df['supersense_category'].tolist():\n",
    "                return True\n",
    "            if all(item in supersense_df['dependency_relation'].tolist() for item in ['det', 'nsubj', 'dobj', 'cc']) and 'verb.change' in supersense_df['supersense_category'].tolist():\n",
    "                return True\n",
    "            if all(item in supersense_df['dependency_relation'].tolist() for item in ['det', 'nsubj', 'dobj']) and all(item in supersense_df['supersense_category'].tolist() for item in ['verb.perception', 'noun.artifact']):\n",
    "                return True\n",
    "            if all(item in supersense_df['dependency_relation'].tolist() for item in ['prep', 'nsubjpass', 'auxpass', 'nummod', 'cc']):\n",
    "                return True\n",
    "            if all(item in supersense_df['dependency_relation'].tolist() for item in ['nsubjpass', 'auxpass']) and 'require' in supersense_df['lemma'].tolist():\n",
    "                return True\n",
    "            if all(item in supersense_df['dependency_relation'].tolist() for item in ['nsubjpass', 'auxpass', 'det', 'aux']) and 'verb.change' in supersense_df['supersense_category'].tolist():\n",
    "                return True\n",
    "            if all(item in supersense_df['dependency_relation'].tolist() for item in ['det', 'nsubjpass', 'aux', 'auxpass', 'pobj']) and 'verb.contact' in supersense_df['supersense_category'].tolist():\n",
    "                return True\n",
    "            if all(item in supersense_df['dependency_relation'].tolist() for item in ['det', 'nsubj', 'pobj', 'prep']) and 'verb.stative' in supersense_df['supersense_category'].tolist():\n",
    "                return True\n",
    "            if all(item in supersense_df['dependency_relation'].tolist() for item in ['pobj', 'prep']) and all(item in supersense_df['supersense_category'].tolist() for item in ['verb.stative', 'noun.artifact']) and supersense_df['dependency_relation'].tolist().count('pobj') > 1:\n",
    "                return True\n",
    "            if all(item in supersense_df['dependency_relation'].tolist() for item in ['det', 'nsubj', 'dobj', 'predet']) and 'verb.social' in supersense_df['supersense_category'].tolist():\n",
    "                return True\n",
    "            else:\n",
    "                return False\n",
    "        else:\n",
    "            return False\n",
    "    \n",
    "    def is_important_for_activity(self, supersense_df):\n",
    "        # Rule 1: there needs to be at least two nouns in the sentences\n",
    "        if supersense_df['fine_POS_tag'].tolist().count('NN') + supersense_df['fine_POS_tag'].tolist().count('NNP') + supersense_df['fine_POS_tag'].tolist().count('NNS') > 1:\n",
    "            # if all(item in supersense_df['dependency_relation'].tolist() for item in ['nsubj', 'aux', 'cc', 'conj']) and any(item in supersense_df['supersense_category'].tolist() for item in ['verb.cognition', 'verb.creation']):\n",
    "            #     print('!?')\n",
    "            #     return True\n",
    "            if all(item in supersense_df['dependency_relation'].tolist() for item in ['nsubj', 'acl', 'agent', 'ccomp']) and all(item in supersense_df['supersense_category'].tolist() for item in ['verb.communication', 'verb.stative']):\n",
    "                return True\n",
    "            if len(supersense_df[(supersense_df['lemma'].isin(['when', 'second', 'if', 'then', 'first'])) & (supersense_df['dependency_relation'] == 'advmod')]) > 0:\n",
    "                return True\n",
    "            else: \n",
    "                return False\n",
    "        else:\n",
    "            return False\n",
    "    \n",
    "    def is_important_for_usecase(self, supersense_df):\n",
    "        # Rule 1: there needs to be at least two nouns in the sentences\n",
    "        if supersense_df['fine_POS_tag'].tolist().count('NN') + supersense_df['fine_POS_tag'].tolist().count('NNP') + supersense_df['fine_POS_tag'].tolist().count('NNS') > 1:\n",
    "            if len(supersense_df[supersense_df['lemma'].isin(['system', 'facilitate', 'module', 'interface', 'functionality', 'capability'])]) > 0:\n",
    "                return True\n",
    "            if len(supersense_df[supersense_df['supersense_category'] == 'verb.contact']) > 0:\n",
    "                return True\n",
    "            if len(supersense_df[(supersense_df['supersense_category'].isin(['verb.creation', 'verb.social'])) & (supersense_df['lemma'] == 'execute')]) > 0:\n",
    "                return True\n",
    "            if len(supersense_df[(supersense_df['supersense_category'].isin(['noun.animal', 'noun.person', 'noun.plant'])) & (supersense_df['dependency_relation'] == 'nsubj')]) > 0:\n",
    "                return True\n",
    "            else:\n",
    "                return False\n",
    "        else:\n",
    "            return False\n",
    "\n",
    "    def apply_bucketing(self, input_text):\n",
    "        return [\n",
    "            self.is_important_for_class(input_text),\n",
    "            self.is_important_for_activity(input_text),\n",
    "            self.is_important_for_usecase(input_text)\n",
    "        ]\n",
    "\n",
    "bucketizer = Bucketizer()        "
   ]
  },
  {
   "cell_type": "code",
   "execution_count": null,
   "id": "251c80a6",
   "metadata": {},
   "outputs": [],
   "source": [
    "pred = df.groupby('doc-sent').apply(lambda x: bucketizer.apply_bucketing(x))"
   ]
  },
  {
   "cell_type": "code",
   "execution_count": null,
   "id": "c1dc005f",
   "metadata": {},
   "outputs": [],
   "source": [
    "test = df.groupby('doc-sent').apply(lambda x: [x.iloc[0]['structure_focus'], x.iloc[0]['process_focus'], x.iloc[0]['usecase_focus']])"
   ]
  },
  {
   "cell_type": "code",
   "execution_count": null,
   "id": "de14ccb0",
   "metadata": {},
   "outputs": [],
   "source": [
    "from sklearn.metrics import classification_report"
   ]
  },
  {
   "cell_type": "code",
   "execution_count": null,
   "id": "e33eea2f",
   "metadata": {},
   "outputs": [],
   "source": [
    "test"
   ]
  },
  {
   "cell_type": "code",
   "execution_count": null,
   "id": "3bcdc478",
   "metadata": {},
   "outputs": [],
   "source": [
    "pred"
   ]
  },
  {
   "cell_type": "code",
   "execution_count": null,
   "id": "9ac9f655",
   "metadata": {},
   "outputs": [],
   "source": [
    "print('Classes:')\n",
    "print(classification_report([observation[0] for observation in test], [observation[0] for observation in pred]))\n",
    "\n",
    "print('Activity:')\n",
    "print(classification_report([observation[1] for observation in test], [observation[1] for observation in pred]))\n",
    "\n",
    "print('Use case:')\n",
    "print(classification_report([observation[2] for observation in test], [observation[2] for observation in pred]))"
   ]
  },
  {
   "cell_type": "code",
   "execution_count": null,
   "id": "5cdb656e",
   "metadata": {},
   "outputs": [],
   "source": [
    "len(pred)"
   ]
  },
  {
   "cell_type": "code",
   "execution_count": null,
   "id": "27db5953",
   "metadata": {},
   "outputs": [],
   "source": []
  }
 ],
 "metadata": {
  "kernelspec": {
   "display_name": "Python 3",
   "language": "python",
   "name": "python3"
  },
  "language_info": {
   "codemirror_mode": {
    "name": "ipython",
    "version": 3
   },
   "file_extension": ".py",
   "mimetype": "text/x-python",
   "name": "python",
   "nbconvert_exporter": "python",
   "pygments_lexer": "ipython3",
   "version": "3.8.8"
  }
 },
 "nbformat": 4,
 "nbformat_minor": 5
}
