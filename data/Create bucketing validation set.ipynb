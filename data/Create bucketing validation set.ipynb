{
 "cells": [
  {
   "cell_type": "code",
   "execution_count": 2,
   "id": "b7bbf1b4",
   "metadata": {},
   "outputs": [],
   "source": [
    "import pandas as pd\n",
    "import glob"
   ]
  },
  {
   "cell_type": "code",
   "execution_count": 33,
   "id": "7b4c36d0",
   "metadata": {},
   "outputs": [],
   "source": [
    "df = pd.read_csv('validation-set-sentence-labelled.tsv', sep='\\t')"
   ]
  },
  {
   "cell_type": "code",
   "execution_count": 69,
   "id": "c1e97f6f",
   "metadata": {},
   "outputs": [],
   "source": [
    "df['doc-sent'] = [str(row['document_ID']) + '-' + str(row['sentence_ID']) for index, row in df.iterrows()]\n",
    "df['structure_focus'].fillna(False, inplace=True)\n",
    "df['process_focus'].fillna(False, inplace=True)\n",
    "df['usecase_focus'].fillna(False, inplace=True)"
   ]
  },
  {
   "cell_type": "code",
   "execution_count": 59,
   "id": "e7e2ab57",
   "metadata": {},
   "outputs": [],
   "source": [
    "class Bucketizer:    \n",
    "    def is_important_for_class(self, supersense_df):\n",
    "        # Rule 1: there needs to be at least two nouns in the sentences\n",
    "        if supersense_df['fine_POS_tag'].tolist().count('NN') + supersense_df['fine_POS_tag'].tolist().count('NNP') + supersense_df['fine_POS_tag'].tolist().count('NNS') > 1:\n",
    "            if all(item in supersense_df['dependency_relation'].tolist() for item in ['aux', 'auxpass', 'conj']) and 'verb.cognition' in supersense_df['supersense_category'].tolist():\n",
    "                return True\n",
    "            if all(item in supersense_df['dependency_relation'].tolist() for item in ['pobj', 'prep', 'nsubj']) and all(item in supersense_df['supersense_category'].tolist() for item in ['verb.stative', 'noun.relation']):\n",
    "                return True\n",
    "            if all(item in supersense_df['dependency_relation'].tolist() for item in ['pobj', 'nummod']) and all(item in supersense_df['supersense_category'].tolist() for item in ['verb.stative', 'noun.artifact']) and supersense_df['supersense_category'].tolist().count('verb.stative') > 1:\n",
    "                return True\n",
    "            if all(item in supersense_df['dependency_relation'].tolist() for item in ['nsubj', 'dobj', 'amod']) and 'verb.stative' in supersense_df['supersense_category'].tolist() and 'JJ' in supersense_df['fine_POS_tag'].tolist():\n",
    "                return True\n",
    "            if all(item in supersense_df['dependency_relation'].tolist() for item in ['det', 'nsubj', 'dobj']) and 'verb.possession' in supersense_df['supersense_category'].tolist():\n",
    "                return True\n",
    "            if all(item in supersense_df['dependency_relation'].tolist() for item in ['det', 'nsubj', 'pobj', 'aux']) and 'verb.stative' in supersense_df['supersense_category'].tolist():\n",
    "                return True\n",
    "            if all(item in supersense_df['dependency_relation'].tolist() for item in ['det', 'nsubj', 'pobj', 'aux']) and 'verb.communication' in supersense_df['supersense_category'].tolist():\n",
    "                return True\n",
    "            if all(item in supersense_df['dependency_relation'].tolist() for item in ['det', 'nsubj', 'dobj', 'cc']) and 'verb.change' in supersense_df['supersense_category'].tolist():\n",
    "                return True\n",
    "            if all(item in supersense_df['dependency_relation'].tolist() for item in ['det', 'nsubj', 'dobj']) and all(item in supersense_df['supersense_category'].tolist() for item in ['verb.perception', 'noun.artifact']):\n",
    "                return True\n",
    "            if all(item in supersense_df['dependency_relation'].tolist() for item in ['prep', 'nsubjpass', 'auxpass', 'nummod', 'cc']):\n",
    "                return True\n",
    "            if all(item in supersense_df['dependency_relation'].tolist() for item in ['nsubjpass', 'auxpass']) and 'require' in supersense_df['lemma'].tolist():\n",
    "                return True\n",
    "            if all(item in supersense_df['dependency_relation'].tolist() for item in ['nsubjpass', 'auxpass', 'det', 'aux']) and 'verb.change' in supersense_df['supersense_category'].tolist():\n",
    "                return True\n",
    "            if all(item in supersense_df['dependency_relation'].tolist() for item in ['det', 'nsubjpass', 'aux', 'auxpass', 'pobj']) and 'verb.contact' in supersense_df['supersense_category'].tolist():\n",
    "                return True\n",
    "            if all(item in supersense_df['dependency_relation'].tolist() for item in ['det', 'nsubj', 'pobj', 'prep']) and 'verb.stative' in supersense_df['supersense_category'].tolist():\n",
    "                return True\n",
    "            if all(item in supersense_df['dependency_relation'].tolist() for item in ['pobj', 'prep']) and all(item in supersense_df['supersense_category'].tolist() for item in ['verb.stative', 'noun.artifact']) and supersense_df['dependency_relation'].tolist().count('pobj') > 1:\n",
    "                return True\n",
    "            if all(item in supersense_df['dependency_relation'].tolist() for item in ['det', 'nsubj', 'dobj', 'predet']) and 'verb.social' in supersense_df['supersense_category'].tolist():\n",
    "                return True\n",
    "            else:\n",
    "                return False\n",
    "        else:\n",
    "            return False\n",
    "    \n",
    "    def is_important_for_activity(self, supersense_df):\n",
    "        # Rule 1: there needs to be at least two nouns in the sentences\n",
    "        if supersense_df['fine_POS_tag'].tolist().count('NN') + supersense_df['fine_POS_tag'].tolist().count('NNP') + supersense_df['fine_POS_tag'].tolist().count('NNS') > 1:\n",
    "            # if all(item in supersense_df['dependency_relation'].tolist() for item in ['nsubj', 'aux', 'cc', 'conj']) and any(item in supersense_df['supersense_category'].tolist() for item in ['verb.cognition', 'verb.creation']):\n",
    "            #     print('!?')\n",
    "            #     return True\n",
    "            if all(item in supersense_df['dependency_relation'].tolist() for item in ['nsubj', 'acl', 'agent', 'ccomp']) and all(item in supersense_df['supersense_category'].tolist() for item in ['verb.communication', 'verb.stative']):\n",
    "                return True\n",
    "            if len(supersense_df[(supersense_df['lemma'].isin(['when', 'second', 'if', 'then', 'first'])) & (supersense_df['dependency_relation'] == 'advmod')]) > 0:\n",
    "                return True\n",
    "            else: \n",
    "                return False\n",
    "        else:\n",
    "            return False\n",
    "    \n",
    "    def is_important_for_usecase(self, supersense_df):\n",
    "        # Rule 1: there needs to be at least two nouns in the sentences\n",
    "        if supersense_df['fine_POS_tag'].tolist().count('NN') + supersense_df['fine_POS_tag'].tolist().count('NNP') + supersense_df['fine_POS_tag'].tolist().count('NNS') > 1:\n",
    "            if len(supersense_df[supersense_df['lemma'].isin(['system', 'facilitate', 'module', 'interface', 'functionality', 'capability'])]) > 0:\n",
    "                return True\n",
    "            if len(supersense_df[supersense_df['supersense_category'] == 'verb.contact']) > 0:\n",
    "                return True\n",
    "            if len(supersense_df[(supersense_df['supersense_category'].isin(['verb.creation', 'verb.social'])) & (supersense_df['lemma'] == 'execute')]) > 0:\n",
    "                return True\n",
    "            if len(supersense_df[(supersense_df['supersense_category'].isin(['noun.animal', 'noun.person', 'noun.plant'])) & (supersense_df['dependency_relation'] == 'nsubj')]) > 0:\n",
    "                return True\n",
    "            else:\n",
    "                return False\n",
    "        else:\n",
    "            return False\n",
    "\n",
    "    def apply_bucketing(self, input_text):\n",
    "        return [\n",
    "            self.is_important_for_class(input_text),\n",
    "            self.is_important_for_activity(input_text),\n",
    "            self.is_important_for_usecase(input_text)\n",
    "        ]\n",
    "\n",
    "bucketizer = Bucketizer()        "
   ]
  },
  {
   "cell_type": "code",
   "execution_count": 63,
   "id": "251c80a6",
   "metadata": {},
   "outputs": [],
   "source": [
    "pred = df.groupby('doc-sent').apply(lambda x: bucketizer.apply_bucketing(x))"
   ]
  },
  {
   "cell_type": "code",
   "execution_count": 70,
   "id": "c1dc005f",
   "metadata": {},
   "outputs": [],
   "source": [
    "test = df.groupby('doc-sent').apply(lambda x: [x.iloc[0]['structure_focus'], x.iloc[0]['process_focus'], x.iloc[0]['usecase_focus']])"
   ]
  },
  {
   "cell_type": "code",
   "execution_count": 76,
   "id": "de14ccb0",
   "metadata": {},
   "outputs": [],
   "source": [
    "from sklearn.metrics import classification_report"
   ]
  },
  {
   "cell_type": "code",
   "execution_count": 71,
   "id": "e33eea2f",
   "metadata": {},
   "outputs": [
    {
     "data": {
      "text/plain": [
       "doc-sent\n",
       "0-0       [True, False, True]\n",
       "0-1        [True, True, True]\n",
       "0-10       [True, True, True]\n",
       "0-11    [False, False, False]\n",
       "0-12       [True, True, True]\n",
       "                ...          \n",
       "4-5      [True, False, False]\n",
       "4-6        [True, True, True]\n",
       "4-7      [True, False, False]\n",
       "4-8     [False, False, False]\n",
       "4-9      [True, False, False]\n",
       "Length: 145, dtype: object"
      ]
     },
     "execution_count": 71,
     "metadata": {},
     "output_type": "execute_result"
    }
   ],
   "source": [
    "test"
   ]
  },
  {
   "cell_type": "code",
   "execution_count": 72,
   "id": "3bcdc478",
   "metadata": {},
   "outputs": [
    {
     "data": {
      "text/plain": [
       "doc-sent\n",
       "0-0      [True, False, False]\n",
       "0-1       [True, False, True]\n",
       "0-10    [False, False, False]\n",
       "0-11    [False, False, False]\n",
       "0-12     [True, False, False]\n",
       "                ...          \n",
       "4-5     [False, False, False]\n",
       "4-6       [True, True, False]\n",
       "4-7      [True, False, False]\n",
       "4-8     [False, False, False]\n",
       "4-9       [True, False, True]\n",
       "Length: 145, dtype: object"
      ]
     },
     "execution_count": 72,
     "metadata": {},
     "output_type": "execute_result"
    }
   ],
   "source": [
    "pred"
   ]
  },
  {
   "cell_type": "code",
   "execution_count": 78,
   "id": "9ac9f655",
   "metadata": {},
   "outputs": [
    {
     "name": "stdout",
     "output_type": "stream",
     "text": [
      "Classes:\n",
      "              precision    recall  f1-score   support\n",
      "\n",
      "       False       0.28      0.54      0.37        35\n",
      "        True       0.79      0.56      0.66       110\n",
      "\n",
      "    accuracy                           0.56       145\n",
      "   macro avg       0.54      0.55      0.52       145\n",
      "weighted avg       0.67      0.56      0.59       145\n",
      "\n",
      "Activity:\n",
      "              precision    recall  f1-score   support\n",
      "\n",
      "       False       0.90      0.95      0.92       123\n",
      "        True       0.60      0.41      0.49        22\n",
      "\n",
      "    accuracy                           0.87       145\n",
      "   macro avg       0.75      0.68      0.71       145\n",
      "weighted avg       0.85      0.87      0.86       145\n",
      "\n",
      "Use case:\n",
      "              precision    recall  f1-score   support\n",
      "\n",
      "       False       0.87      0.83      0.85       118\n",
      "        True       0.38      0.44      0.41        27\n",
      "\n",
      "    accuracy                           0.76       145\n",
      "   macro avg       0.62      0.64      0.63       145\n",
      "weighted avg       0.78      0.76      0.77       145\n",
      "\n"
     ]
    }
   ],
   "source": [
    "print('Classes:')\n",
    "print(classification_report([observation[0] for observation in test], [observation[0] for observation in pred]))\n",
    "\n",
    "print('Activity:')\n",
    "print(classification_report([observation[1] for observation in test], [observation[1] for observation in pred]))\n",
    "\n",
    "print('Use case:')\n",
    "print(classification_report([observation[2] for observation in test], [observation[2] for observation in pred]))"
   ]
  },
  {
   "cell_type": "code",
   "execution_count": 79,
   "id": "5cdb656e",
   "metadata": {},
   "outputs": [
    {
     "data": {
      "text/plain": [
       "145"
      ]
     },
     "execution_count": 79,
     "metadata": {},
     "output_type": "execute_result"
    }
   ],
   "source": [
    "len(pred)"
   ]
  },
  {
   "cell_type": "code",
   "execution_count": null,
   "id": "27db5953",
   "metadata": {},
   "outputs": [],
   "source": []
  }
 ],
 "metadata": {
  "kernelspec": {
   "display_name": "Python 3",
   "language": "python",
   "name": "python3"
  },
  "language_info": {
   "codemirror_mode": {
    "name": "ipython",
    "version": 3
   },
   "file_extension": ".py",
   "mimetype": "text/x-python",
   "name": "python",
   "nbconvert_exporter": "python",
   "pygments_lexer": "ipython3",
   "version": "3.8.8"
  }
 },
 "nbformat": 4,
 "nbformat_minor": 5
}
