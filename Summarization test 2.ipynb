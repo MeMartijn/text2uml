{
 "cells": [
  {
   "cell_type": "code",
   "execution_count": 50,
   "metadata": {},
   "outputs": [],
   "source": [
    "from transformers import pipeline, PegasusForConditionalGeneration, PegasusTokenizer, DistilBertTokenizer, DistilBertModel\n",
    "import torch"
   ]
  },
  {
   "cell_type": "markdown",
   "metadata": {},
   "source": [
    "# Pipeline summarization"
   ]
  },
  {
   "cell_type": "code",
   "execution_count": 159,
   "metadata": {},
   "outputs": [],
   "source": [
    "summarizer = pipeline('summarization')"
   ]
  },
  {
   "cell_type": "code",
   "execution_count": 101,
   "metadata": {},
   "outputs": [],
   "source": [
    "inp = \"\"\"\n",
    "Our colleagues at the service desk are responsible for the ordering process. But are generally just very nice people to have coffee with.\n",
    "Eventually, an order is placed by a specific customer. \n",
    "This customer will have a first name, last name, address, and birth date.\n",
    "The order consists of multiple line items. \n",
    "Each order has an order number, an entry date, a delivery status, and a description.\n",
    "A line item specifies a particular product, and defines the quantity that is ordered.\n",
    "\n",
    "A product is characterized by a name, a description, a product number, a price, a location.\n",
    "Restricted products and flammable products are types of products.\n",
    "\n",
    "Each order is shipped by a delivery company. The delivery company has a name and an address. \n",
    "MyCorp has an incredible relationship with our delivery company, ensuring the best delivery possible.\n",
    "\n",
    "There are two types of customer, namely gold customers, and regular customers.\n",
    "We are very thankful for our generous Gold customers. \n",
    "Gold customers have a discount level.\n",
    "Each customer has an account. The account has a balance, and a status.\n",
    "\n",
    "Each order has an invoice that is sent to the customer. \n",
    "An invoice has a date, status, amount payable, and invoice address.\n",
    "It can be an initial invoice, or a late payment invoice.\n",
    "A payment is for a particular invoice and has an amount, date, and  bank account. \n",
    "It can either be a full payment, or a partial payment.\n",
    "\n",
    "A product has a stock level, and a reorder level.\n",
    "When the stock level drops below the reorder level, the product needs to be reordered from a supplier.\n",
    "\n",
    "As a result, a supply request is sent to a supplier. This request is for a certain product, and has an amount and a delivery date.\n",
    "Finally, the supplier submits an invoice for the product.\n",
    "\"\"\""
   ]
  },
  {
   "cell_type": "code",
   "execution_count": 162,
   "metadata": {},
   "outputs": [
    {
     "data": {
      "text/plain": [
       "[{'summary_text': ' An order is placed by a specific customer, with a first name, last name, address, and birth date . The order consists of multiple line items . Each order has an order number, an entry date, a delivery status, and a description . The delivery company has a name and an address . The supplier submits an invoice for the product . Gold customers have a discount level, and regular customers have discount levels . The product is characterized by a name, a description, a product number, a price, a location and a stock level . When the stock level drops below the reorder level, the product needs to be reordered from a supplier . The invoice has a date, status, amount payable, and invoice address. It can be an initial invoice, or a late payment invoice. A payment is for a particular invoice and has an amount, date, and  bank account. The customer has a balance and a delivery date. The delivery companies have an address and an order is shipped by a delivery company. The deliveries are delivered by the delivery company have an order and an amount and a reorder date. An invoice is sent to the customer. The payment is an invoice is for the customer’s bank account and an account. A delivery company is sent by the customer has an address. An order has a receipt. An invoiture is for an invoitation has a number and an invoice. The order is delivered by a customer. An employee has an account'}]"
      ]
     },
     "execution_count": 162,
     "metadata": {},
     "output_type": "execute_result"
    }
   ],
   "source": [
    "summarizer(inp, min_length=300, max_length=370, num_beams=10, early_stopping=True)"
   ]
  },
  {
   "cell_type": "code",
   "execution_count": 167,
   "metadata": {},
   "outputs": [
    {
     "name": "stderr",
     "output_type": "stream",
     "text": [
      "Your max_length is set to 470, but you input_length is only 358. You might consider decreasing max_length manually, e.g. summarizer('...', max_length=50)\n"
     ]
    },
    {
     "ename": "KeyboardInterrupt",
     "evalue": "",
     "output_type": "error",
     "traceback": [
      "\u001b[0;31m---------------------------------------------------------------------------\u001b[0m",
      "\u001b[0;31mKeyboardInterrupt\u001b[0m                         Traceback (most recent call last)",
      "\u001b[0;32m<ipython-input-167-12f0ca3b93ef>\u001b[0m in \u001b[0;36m<module>\u001b[0;34m\u001b[0m\n\u001b[0;32m----> 1\u001b[0;31m \u001b[0msummarizer\u001b[0m\u001b[0;34m(\u001b[0m\u001b[0minp\u001b[0m\u001b[0;34m,\u001b[0m \u001b[0mmin_length\u001b[0m\u001b[0;34m=\u001b[0m\u001b[0;36m400\u001b[0m\u001b[0;34m,\u001b[0m \u001b[0mmax_length\u001b[0m\u001b[0;34m=\u001b[0m\u001b[0;36m470\u001b[0m\u001b[0;34m,\u001b[0m \u001b[0mnum_beams\u001b[0m\u001b[0;34m=\u001b[0m\u001b[0;36m10\u001b[0m\u001b[0;34m,\u001b[0m \u001b[0mearly_stopping\u001b[0m\u001b[0;34m=\u001b[0m\u001b[0;32mTrue\u001b[0m\u001b[0;34m)\u001b[0m\u001b[0;34m\u001b[0m\u001b[0;34m\u001b[0m\u001b[0m\n\u001b[0m",
      "\u001b[0;32m~/opt/anaconda3/lib/python3.8/site-packages/transformers/pipelines/text2text_generation.py\u001b[0m in \u001b[0;36m__call__\u001b[0;34m(self, *args, **kwargs)\u001b[0m\n\u001b[1;32m    189\u001b[0m               \u001b[0mThe\u001b[0m \u001b[0mtoken\u001b[0m \u001b[0mids\u001b[0m \u001b[0mof\u001b[0m \u001b[0mthe\u001b[0m \u001b[0msummary\u001b[0m\u001b[0;34m.\u001b[0m\u001b[0;34m\u001b[0m\u001b[0;34m\u001b[0m\u001b[0m\n\u001b[1;32m    190\u001b[0m         \"\"\"\n\u001b[0;32m--> 191\u001b[0;31m         \u001b[0;32mreturn\u001b[0m \u001b[0msuper\u001b[0m\u001b[0;34m(\u001b[0m\u001b[0;34m)\u001b[0m\u001b[0;34m.\u001b[0m\u001b[0m__call__\u001b[0m\u001b[0;34m(\u001b[0m\u001b[0;34m*\u001b[0m\u001b[0margs\u001b[0m\u001b[0;34m,\u001b[0m \u001b[0;34m**\u001b[0m\u001b[0mkwargs\u001b[0m\u001b[0;34m)\u001b[0m\u001b[0;34m\u001b[0m\u001b[0;34m\u001b[0m\u001b[0m\n\u001b[0m\u001b[1;32m    192\u001b[0m \u001b[0;34m\u001b[0m\u001b[0m\n\u001b[1;32m    193\u001b[0m     \u001b[0;32mdef\u001b[0m \u001b[0mcheck_inputs\u001b[0m\u001b[0;34m(\u001b[0m\u001b[0mself\u001b[0m\u001b[0;34m,\u001b[0m \u001b[0minput_length\u001b[0m\u001b[0;34m:\u001b[0m \u001b[0mint\u001b[0m\u001b[0;34m,\u001b[0m \u001b[0mmin_length\u001b[0m\u001b[0;34m:\u001b[0m \u001b[0mint\u001b[0m\u001b[0;34m,\u001b[0m \u001b[0mmax_length\u001b[0m\u001b[0;34m:\u001b[0m \u001b[0mint\u001b[0m\u001b[0;34m)\u001b[0m \u001b[0;34m->\u001b[0m \u001b[0mbool\u001b[0m\u001b[0;34m:\u001b[0m\u001b[0;34m\u001b[0m\u001b[0;34m\u001b[0m\u001b[0m\n",
      "\u001b[0;32m~/opt/anaconda3/lib/python3.8/site-packages/transformers/pipelines/text2text_generation.py\u001b[0m in \u001b[0;36m__call__\u001b[0;34m(self, return_tensors, return_text, clean_up_tokenization_spaces, truncation, *args, **generate_kwargs)\u001b[0m\n\u001b[1;32m    118\u001b[0m             \u001b[0mself\u001b[0m\u001b[0;34m.\u001b[0m\u001b[0mcheck_inputs\u001b[0m\u001b[0;34m(\u001b[0m\u001b[0minput_length\u001b[0m\u001b[0;34m,\u001b[0m \u001b[0mmin_length\u001b[0m\u001b[0;34m,\u001b[0m \u001b[0mmax_length\u001b[0m\u001b[0;34m)\u001b[0m\u001b[0;34m\u001b[0m\u001b[0;34m\u001b[0m\u001b[0m\n\u001b[1;32m    119\u001b[0m \u001b[0;34m\u001b[0m\u001b[0m\n\u001b[0;32m--> 120\u001b[0;31m             generations = self.model.generate(\n\u001b[0m\u001b[1;32m    121\u001b[0m                 \u001b[0minputs\u001b[0m\u001b[0;34m[\u001b[0m\u001b[0;34m\"input_ids\"\u001b[0m\u001b[0;34m]\u001b[0m\u001b[0;34m,\u001b[0m\u001b[0;34m\u001b[0m\u001b[0;34m\u001b[0m\u001b[0m\n\u001b[1;32m    122\u001b[0m                 \u001b[0mattention_mask\u001b[0m\u001b[0;34m=\u001b[0m\u001b[0minputs\u001b[0m\u001b[0;34m[\u001b[0m\u001b[0;34m\"attention_mask\"\u001b[0m\u001b[0;34m]\u001b[0m\u001b[0;34m,\u001b[0m\u001b[0;34m\u001b[0m\u001b[0;34m\u001b[0m\u001b[0m\n",
      "\u001b[0;32m~/opt/anaconda3/lib/python3.8/site-packages/torch/autograd/grad_mode.py\u001b[0m in \u001b[0;36mdecorate_context\u001b[0;34m(*args, **kwargs)\u001b[0m\n\u001b[1;32m     25\u001b[0m         \u001b[0;32mdef\u001b[0m \u001b[0mdecorate_context\u001b[0m\u001b[0;34m(\u001b[0m\u001b[0;34m*\u001b[0m\u001b[0margs\u001b[0m\u001b[0;34m,\u001b[0m \u001b[0;34m**\u001b[0m\u001b[0mkwargs\u001b[0m\u001b[0;34m)\u001b[0m\u001b[0;34m:\u001b[0m\u001b[0;34m\u001b[0m\u001b[0;34m\u001b[0m\u001b[0m\n\u001b[1;32m     26\u001b[0m             \u001b[0;32mwith\u001b[0m \u001b[0mself\u001b[0m\u001b[0;34m.\u001b[0m\u001b[0m__class__\u001b[0m\u001b[0;34m(\u001b[0m\u001b[0;34m)\u001b[0m\u001b[0;34m:\u001b[0m\u001b[0;34m\u001b[0m\u001b[0;34m\u001b[0m\u001b[0m\n\u001b[0;32m---> 27\u001b[0;31m                 \u001b[0;32mreturn\u001b[0m \u001b[0mfunc\u001b[0m\u001b[0;34m(\u001b[0m\u001b[0;34m*\u001b[0m\u001b[0margs\u001b[0m\u001b[0;34m,\u001b[0m \u001b[0;34m**\u001b[0m\u001b[0mkwargs\u001b[0m\u001b[0;34m)\u001b[0m\u001b[0;34m\u001b[0m\u001b[0;34m\u001b[0m\u001b[0m\n\u001b[0m\u001b[1;32m     28\u001b[0m         \u001b[0;32mreturn\u001b[0m \u001b[0mcast\u001b[0m\u001b[0;34m(\u001b[0m\u001b[0mF\u001b[0m\u001b[0;34m,\u001b[0m \u001b[0mdecorate_context\u001b[0m\u001b[0;34m)\u001b[0m\u001b[0;34m\u001b[0m\u001b[0;34m\u001b[0m\u001b[0m\n\u001b[1;32m     29\u001b[0m \u001b[0;34m\u001b[0m\u001b[0m\n",
      "\u001b[0;32m~/opt/anaconda3/lib/python3.8/site-packages/transformers/generation_utils.py\u001b[0m in \u001b[0;36mgenerate\u001b[0;34m(self, input_ids, max_length, min_length, do_sample, early_stopping, num_beams, temperature, top_k, top_p, repetition_penalty, bad_words_ids, bos_token_id, pad_token_id, eos_token_id, length_penalty, no_repeat_ngram_size, encoder_no_repeat_ngram_size, num_return_sequences, max_time, decoder_start_token_id, use_cache, num_beam_groups, diversity_penalty, prefix_allowed_tokens_fn, output_attentions, output_hidden_states, output_scores, return_dict_in_generate, forced_bos_token_id, forced_eos_token_id, remove_invalid_values, **model_kwargs)\u001b[0m\n\u001b[1;32m   1054\u001b[0m                 \u001b[0minput_ids\u001b[0m\u001b[0;34m,\u001b[0m \u001b[0mexpand_size\u001b[0m\u001b[0;34m=\u001b[0m\u001b[0mnum_beams\u001b[0m\u001b[0;34m,\u001b[0m \u001b[0mis_encoder_decoder\u001b[0m\u001b[0;34m=\u001b[0m\u001b[0mself\u001b[0m\u001b[0;34m.\u001b[0m\u001b[0mconfig\u001b[0m\u001b[0;34m.\u001b[0m\u001b[0mis_encoder_decoder\u001b[0m\u001b[0;34m,\u001b[0m \u001b[0;34m**\u001b[0m\u001b[0mmodel_kwargs\u001b[0m\u001b[0;34m\u001b[0m\u001b[0;34m\u001b[0m\u001b[0m\n\u001b[1;32m   1055\u001b[0m             )\n\u001b[0;32m-> 1056\u001b[0;31m             return self.beam_search(\n\u001b[0m\u001b[1;32m   1057\u001b[0m                 \u001b[0minput_ids\u001b[0m\u001b[0;34m,\u001b[0m\u001b[0;34m\u001b[0m\u001b[0;34m\u001b[0m\u001b[0m\n\u001b[1;32m   1058\u001b[0m                 \u001b[0mbeam_scorer\u001b[0m\u001b[0;34m,\u001b[0m\u001b[0;34m\u001b[0m\u001b[0;34m\u001b[0m\u001b[0m\n",
      "\u001b[0;32m~/opt/anaconda3/lib/python3.8/site-packages/transformers/generation_utils.py\u001b[0m in \u001b[0;36mbeam_search\u001b[0;34m(self, input_ids, beam_scorer, logits_processor, stopping_criteria, max_length, pad_token_id, eos_token_id, output_attentions, output_hidden_states, output_scores, return_dict_in_generate, **model_kwargs)\u001b[0m\n\u001b[1;32m   1799\u001b[0m             )\n\u001b[1;32m   1800\u001b[0m             \u001b[0;32mif\u001b[0m \u001b[0mmodel_kwargs\u001b[0m\u001b[0;34m[\u001b[0m\u001b[0;34m\"past\"\u001b[0m\u001b[0;34m]\u001b[0m \u001b[0;32mis\u001b[0m \u001b[0;32mnot\u001b[0m \u001b[0;32mNone\u001b[0m\u001b[0;34m:\u001b[0m\u001b[0;34m\u001b[0m\u001b[0;34m\u001b[0m\u001b[0m\n\u001b[0;32m-> 1801\u001b[0;31m                 \u001b[0mmodel_kwargs\u001b[0m\u001b[0;34m[\u001b[0m\u001b[0;34m\"past\"\u001b[0m\u001b[0;34m]\u001b[0m \u001b[0;34m=\u001b[0m \u001b[0mself\u001b[0m\u001b[0;34m.\u001b[0m\u001b[0m_reorder_cache\u001b[0m\u001b[0;34m(\u001b[0m\u001b[0mmodel_kwargs\u001b[0m\u001b[0;34m[\u001b[0m\u001b[0;34m\"past\"\u001b[0m\u001b[0;34m]\u001b[0m\u001b[0;34m,\u001b[0m \u001b[0mbeam_idx\u001b[0m\u001b[0;34m)\u001b[0m\u001b[0;34m\u001b[0m\u001b[0;34m\u001b[0m\u001b[0m\n\u001b[0m\u001b[1;32m   1802\u001b[0m \u001b[0;34m\u001b[0m\u001b[0m\n\u001b[1;32m   1803\u001b[0m             \u001b[0;32mif\u001b[0m \u001b[0mbeam_scorer\u001b[0m\u001b[0;34m.\u001b[0m\u001b[0mis_done\u001b[0m\u001b[0;34m:\u001b[0m\u001b[0;34m\u001b[0m\u001b[0;34m\u001b[0m\u001b[0m\n",
      "\u001b[0;32m~/opt/anaconda3/lib/python3.8/site-packages/transformers/models/pegasus/modeling_pegasus.py\u001b[0m in \u001b[0;36m_reorder_cache\u001b[0;34m(past, beam_idx)\u001b[0m\n\u001b[1;32m   1336\u001b[0m             \u001b[0;31m# cached cross_attention states don't have to be reordered -> they are always the same\u001b[0m\u001b[0;34m\u001b[0m\u001b[0;34m\u001b[0m\u001b[0;34m\u001b[0m\u001b[0m\n\u001b[1;32m   1337\u001b[0m             reordered_past += (\n\u001b[0;32m-> 1338\u001b[0;31m                 \u001b[0mtuple\u001b[0m\u001b[0;34m(\u001b[0m\u001b[0mpast_state\u001b[0m\u001b[0;34m.\u001b[0m\u001b[0mindex_select\u001b[0m\u001b[0;34m(\u001b[0m\u001b[0;36m0\u001b[0m\u001b[0;34m,\u001b[0m \u001b[0mbeam_idx\u001b[0m\u001b[0;34m)\u001b[0m \u001b[0;32mfor\u001b[0m \u001b[0mpast_state\u001b[0m \u001b[0;32min\u001b[0m \u001b[0mlayer_past\u001b[0m\u001b[0;34m[\u001b[0m\u001b[0;34m:\u001b[0m\u001b[0;36m2\u001b[0m\u001b[0;34m]\u001b[0m\u001b[0;34m)\u001b[0m \u001b[0;34m+\u001b[0m \u001b[0mlayer_past\u001b[0m\u001b[0;34m[\u001b[0m\u001b[0;36m2\u001b[0m\u001b[0;34m:\u001b[0m\u001b[0;34m]\u001b[0m\u001b[0;34m,\u001b[0m\u001b[0;34m\u001b[0m\u001b[0;34m\u001b[0m\u001b[0m\n\u001b[0m\u001b[1;32m   1339\u001b[0m             )\n\u001b[1;32m   1340\u001b[0m         \u001b[0;32mreturn\u001b[0m \u001b[0mreordered_past\u001b[0m\u001b[0;34m\u001b[0m\u001b[0;34m\u001b[0m\u001b[0m\n",
      "\u001b[0;32m~/opt/anaconda3/lib/python3.8/site-packages/transformers/models/pegasus/modeling_pegasus.py\u001b[0m in \u001b[0;36m<genexpr>\u001b[0;34m(.0)\u001b[0m\n\u001b[1;32m   1336\u001b[0m             \u001b[0;31m# cached cross_attention states don't have to be reordered -> they are always the same\u001b[0m\u001b[0;34m\u001b[0m\u001b[0;34m\u001b[0m\u001b[0;34m\u001b[0m\u001b[0m\n\u001b[1;32m   1337\u001b[0m             reordered_past += (\n\u001b[0;32m-> 1338\u001b[0;31m                 \u001b[0mtuple\u001b[0m\u001b[0;34m(\u001b[0m\u001b[0mpast_state\u001b[0m\u001b[0;34m.\u001b[0m\u001b[0mindex_select\u001b[0m\u001b[0;34m(\u001b[0m\u001b[0;36m0\u001b[0m\u001b[0;34m,\u001b[0m \u001b[0mbeam_idx\u001b[0m\u001b[0;34m)\u001b[0m \u001b[0;32mfor\u001b[0m \u001b[0mpast_state\u001b[0m \u001b[0;32min\u001b[0m \u001b[0mlayer_past\u001b[0m\u001b[0;34m[\u001b[0m\u001b[0;34m:\u001b[0m\u001b[0;36m2\u001b[0m\u001b[0;34m]\u001b[0m\u001b[0;34m)\u001b[0m \u001b[0;34m+\u001b[0m \u001b[0mlayer_past\u001b[0m\u001b[0;34m[\u001b[0m\u001b[0;36m2\u001b[0m\u001b[0;34m:\u001b[0m\u001b[0;34m]\u001b[0m\u001b[0;34m,\u001b[0m\u001b[0;34m\u001b[0m\u001b[0;34m\u001b[0m\u001b[0m\n\u001b[0m\u001b[1;32m   1339\u001b[0m             )\n\u001b[1;32m   1340\u001b[0m         \u001b[0;32mreturn\u001b[0m \u001b[0mreordered_past\u001b[0m\u001b[0;34m\u001b[0m\u001b[0;34m\u001b[0m\u001b[0m\n",
      "\u001b[0;31mKeyboardInterrupt\u001b[0m: "
     ]
    }
   ],
   "source": [
    "summarizer(inp, min_length=400, max_length=358, num_beams=10, early_stopping=True)"
   ]
  },
  {
   "cell_type": "markdown",
   "metadata": {},
   "source": [
    "# Pegasus summarization"
   ]
  },
  {
   "cell_type": "code",
   "execution_count": 123,
   "metadata": {},
   "outputs": [],
   "source": [
    "model = PegasusForConditionalGeneration.from_pretrained('google/pegasus-xsum')\n",
    "tokenizer = PegasusTokenizer.from_pretrained('google/pegasus-xsum')"
   ]
  },
  {
   "cell_type": "code",
   "execution_count": 127,
   "metadata": {},
   "outputs": [
    {
     "name": "stdout",
     "output_type": "stream",
     "text": [
      "['In order to place an order on MyCorp, a customer will first have to go to the service desk, where they will be asked a series of questions about MyCorp, and then they will be given a list of products that they can place an order for. Each order has an order number, an entry date, a delivery status, and a description. An invoice has a date, status, amount payable, and invoice address. When the stock level drops below the reorder level, the product needs to be reordered from a supplier. this request is for a certain product, and has an amount and a delivery date. this request is for a certain product, and has an amount and a delivery date. this request is for a certain product, and has an amount and a delivery date. this request is for a certain product, and has an amount and a delivery date. this request is for a certain product, and has an amount and a delivery date. this request is for a certain product, and has an amount and a delivery date. this request is for a certain product, and has an amount and a delivery date. this request is for a certain product, and has an amount and a delivery date. this request is for a certain product, and has an amount and a delivery date. this request is for a certain product, and has an amount and a delivery date.']\n"
     ]
    }
   ],
   "source": [
    "inputs = tokenizer([inp], max_length=512, return_tensors='pt', truncation=True)\n",
    "\n",
    "# Generate Summary\n",
    "summary_ids = model.generate(inputs['input_ids'], min_length=200, max_length=324)\n",
    "print([tokenizer.decode(g, skip_special_tokens=True, clean_up_tokenization_spaces=False) for g in summary_ids])"
   ]
  },
  {
   "cell_type": "code",
   "execution_count": 149,
   "metadata": {},
   "outputs": [],
   "source": [
    "model = PegasusForConditionalGeneration.from_pretrained('google/pegasus-xsum')\n",
    "tokenizer = PegasusTokenizer.from_pretrained('google/pegasus-xsum')"
   ]
  },
  {
   "cell_type": "code",
   "execution_count": 150,
   "metadata": {},
   "outputs": [],
   "source": [
    "summarizer = pipeline('summarization', model=model, tokenizer=tokenizer)"
   ]
  },
  {
   "cell_type": "code",
   "execution_count": 151,
   "metadata": {},
   "outputs": [
    {
     "data": {
      "text/plain": [
       "[{'summary_text': 'In order to place an order on MyCorp, a customer will first have to go to the service desk, where they will be asked a series of questions about MyCorp, and then they will be given a list of products they want to order. MyCorp has an incredible relationship with our delivery company, ensuring'}]"
      ]
     },
     "execution_count": 151,
     "metadata": {},
     "output_type": "execute_result"
    }
   ],
   "source": [
    "summarizer(inp, min_length=250, do_sample=False)"
   ]
  },
  {
   "cell_type": "markdown",
   "metadata": {},
   "source": [
    "# DistilBERT summarization"
   ]
  },
  {
   "cell_type": "code",
   "execution_count": 76,
   "metadata": {},
   "outputs": [],
   "source": [
    "tokenizer = DistilBertTokenizer.from_pretrained('distilbert-base-uncased')\n",
    "model = DistilBertModel.from_pretrained('distilbert-base-uncased')\n",
    "\n",
    "inputs = tokenizer([inp], max_length=324, return_tensors='pt', truncation=True)"
   ]
  },
  {
   "cell_type": "code",
   "execution_count": 81,
   "metadata": {},
   "outputs": [
    {
     "name": "stderr",
     "output_type": "stream",
     "text": [
      "Input length of input_ids is 324, but ``max_length`` is set to 324.This can lead to unexpected behavior. You should consider increasing ``config.max_length`` or ``max_length``.\n"
     ]
    }
   ],
   "source": [
    "# Generate Summary\n",
    "summary_ids = model.generate(inputs['input_ids'], min_length=200, max_length=324)"
   ]
  },
  {
   "cell_type": "code",
   "execution_count": 73,
   "metadata": {},
   "outputs": [
    {
     "name": "stdout",
     "output_type": "stream",
     "text": [
      "['our colleagues at the service desk are responsible for the ordering process . but are generally just very nice people to have coffee with . eventually , an order is placed by a specific customer . this customer will have a first name , last name , address , and birth date . the order consists of multiple line items . each order has an order number , an entry date , a delivery status , and a description . a line item specifies a particular product , and defines the quantity that is ordered . a product is characterized by a name , a description , a product number , a price , a location . restricted products and flammable products are types of products . each order is shipped by a delivery company . the delivery company has a name and an address . mycorp has an incredible relationship with our delivery company , ensuring the best delivery possible . there are two types of customer , namely gold customers , and regular customers . we are very thankful for our generous gold customers . gold customers have a discount level . each customer has an account . the account has a balance , and a status . each order has an invoice that is sent to the customer . an invoice has a date , status , amount payable , and invoice address . an invoice can be an initial invoice , or a late payment invoice . a payment is for a particular invoice . a payment has an amount , date , and bank account . a payment can be a full payment , or a partial payment . a product has a stock level , and a reorder level . when the stock level drops below']\n"
     ]
    }
   ],
   "source": [
    "print([tokenizer.decode(g, skip_special_tokens=True, clean_up_tokenization_spaces=False) for g in summary_ids])"
   ]
  },
  {
   "cell_type": "code",
   "execution_count": 119,
   "metadata": {},
   "outputs": [],
   "source": [
    "tokenizer = DistilBertTokenizer.from_pretrained('distilbert-base-uncased')\n",
    "model = DistilBertModel.from_pretrained('distilbert-base-uncased')"
   ]
  },
  {
   "cell_type": "code",
   "execution_count": 121,
   "metadata": {},
   "outputs": [
    {
     "name": "stderr",
     "output_type": "stream",
     "text": [
      "Input length of input_ids is 381, but ``max_length`` is set to 324.This can lead to unexpected behavior. You should consider increasing ``config.max_length`` or ``max_length``.\n"
     ]
    },
    {
     "name": "stdout",
     "output_type": "stream",
     "text": [
      "['our colleagues at the service desk are responsible for the ordering process . but are generally just very nice people to have coffee with . eventually , an order is placed by a specific customer . this customer will have a first name , last name , address , and birth date . the order consists of multiple line items . each order has an order number , an entry date , a delivery status , and a description . a line item specifies a particular product , and defines the quantity that is ordered . a product is characterized by a name , a description , a product number , a price , a location . restricted products and flammable products are types of products . each order is shipped by a delivery company . the delivery company has a name and an address . mycorp has an incredible relationship with our delivery company , ensuring the best delivery possible . there are two types of customer , namely gold customers , and regular customers . we are very thankful for our generous gold customers . gold customers have a discount level . each customer has an account . the account has a balance , and a status . each order has an invoice that is sent to the customer . an invoice has a date , status , amount payable , and invoice address . it can be an initial invoice , or a late payment invoice . a payment is for a particular invoice and has an amount , date , and bank account . it can either be a full payment , or a partial payment . a product has a stock level , and a reorder level . when the stock level drops below the reorder level , the product needs to be reordered from a supplier . as a result , a supply request is sent to a supplier . this request is for a certain product , and has an amount and a delivery date . finally , the supplier submits an invoice for the product .']\n"
     ]
    }
   ],
   "source": [
    "inputs = tokenizer([inp], max_length=1024, return_tensors='pt', truncation=True)\n",
    "\n",
    "# Generate Summary\n",
    "summary_ids = model.generate(inputs['input_ids'], min_length=200, max_length=324, truncation=True)\n",
    "print([tokenizer.decode(g, skip_special_tokens=True, clean_up_tokenization_spaces=False) for g in summary_ids])"
   ]
  },
  {
   "cell_type": "code",
   "execution_count": 168,
   "metadata": {},
   "outputs": [],
   "source": [
    "tokenizer = DistilBertTokenizer.from_pretrained('distilbert-base-uncased')\n",
    "model = DistilBertModel.from_pretrained('distilbert-base-uncased')"
   ]
  },
  {
   "cell_type": "code",
   "execution_count": 169,
   "metadata": {},
   "outputs": [
    {
     "data": {
      "text/plain": [
       "[{'summary_text': 'The ordering process begins when a customer places an order. Each order has an order number, an entry date, a delivery status, and a description. The delivery company has a name, an address, an account, a discount level, and a list of all the items in its inventory The delivery company has an account, and a list of all the items in its inventory The delivery company has an account, and a list of all the items in its inventory The delivery company has an account, and a list of all the items in its inventory The delivery company has an account, and a list of all the items in its inventory The delivery company has an account, and a list of all the items in its inventory The delivery company has an account, and a list of all the items in its inventory The delivery company has an account, and a list of all the items in its inventory The delivery company has an account, and a list of all the items in its inventory The delivery company has an account, and a list of all the items in its inventory The delivery company has an account, and a list of all the items in its inventory The delivery company has an account, and a list of all the items in its inventory The delivery company has an account, and a list of all the items in its inventory The delivery company has an account, and a list of all the items in its inventory The delivery company has an account, and a list of all the items in its inventory'}]"
      ]
     },
     "execution_count": 169,
     "metadata": {},
     "output_type": "execute_result"
    }
   ],
   "source": [
    "summarizer(inp, min_length=280, max_length=340, do_sample=False)"
   ]
  },
  {
   "cell_type": "code",
   "execution_count": null,
   "metadata": {},
   "outputs": [],
   "source": [
    "summarizer = pipeline('summarization', model=model, tokenizer=tokenizer)"
   ]
  },
  {
   "cell_type": "code",
   "execution_count": 163,
   "metadata": {},
   "outputs": [],
   "source": [
    "summarizer = pipeline('summarization', model='human-centered-summarization/financial-summarization-pegasus')"
   ]
  },
  {
   "cell_type": "code",
   "execution_count": 164,
   "metadata": {},
   "outputs": [
    {
     "name": "stderr",
     "output_type": "stream",
     "text": [
      "Your max_length is set to 370, but you input_length is only 358. You might consider decreasing max_length manually, e.g. summarizer('...', max_length=50)\n"
     ]
    },
    {
     "data": {
      "text/plain": [
       "[{'summary_text': 'The ordering process begins when a customer places an order. Each order has an order number, an entry date, a delivery status, and a description. The delivery company has a name, an address, a discount level, and a special delivery service for our loyal Gold customers. The delivery company has a stock level, a reorder level, and a special delivery service for our regular customers. The delivery company has a stock level, a reorder level, and a special delivery service for our regular customers. The delivery company has a stock level, a reorder level, and a special delivery service for our regular customers. The delivery company has a stock level, a reorder level, and a special delivery service for our regular customers. The delivery company has a stock level, a reorder level, and a special delivery service for our regular customers. The delivery company has a stock level, a reorder level, and a special delivery service for our regular customers. The delivery company has a stock level, a reorder level, and a special delivery service for our regular customers. The delivery company has a stock level, a reorder level, and a special delivery service for our regular customers. The delivery company has a stock level, a reorder level, and a special delivery service for our gold customers. The delivery company has a stock level, a reorder level, and a special delivery service for our regular customers. The delivery company has a stock level, a stock level, a reorder level, and a special delivery service for our regular customers'}]"
      ]
     },
     "execution_count": 164,
     "metadata": {},
     "output_type": "execute_result"
    }
   ],
   "source": [
    "summarizer(inp, min_length=300, max_length=370, num_beams=5, early_stopping=True)"
   ]
  },
  {
   "cell_type": "code",
   "execution_count": 166,
   "metadata": {},
   "outputs": [
    {
     "data": {
      "text/plain": [
       "[{'summary_text': 'The ordering process begins when a customer places an order. Each order has an order number, an entry date, a delivery status, and a description. The delivery company has a name, an address, an account, a discount level, and a list of all the items in its inventory The delivery company has an account, and a list of all the items in its inventory The delivery company has an account, and a list of all the items in its inventory The delivery company has an account, and a list of all the items in its inventory The delivery company has an account, and a list of all the items in its inventory The delivery company has an account, and a list of all the items in its inventory The delivery company has an account, and a list of all the items in its inventory The delivery company has an account, and a list of all the items in its inventory The delivery company has an account, and a list of all the items in its inventory The delivery company has an account, and a list of all the items in its inventory The delivery company has an account, and a list of all the items in its inventory The delivery company has an account, and a list of all the items in its inventory The delivery company has an account, and a list of all the items in its inventory The delivery company has an account, and a list of all the items in its inventory The delivery company has an account, and a list of all the items in its inventory'}]"
      ]
     },
     "execution_count": 166,
     "metadata": {},
     "output_type": "execute_result"
    }
   ],
   "source": [
    "summarizer(inp, min_length=280, max_length=340, do_sample=False)"
   ]
  },
  {
   "cell_type": "code",
   "execution_count": null,
   "metadata": {},
   "outputs": [],
   "source": []
  }
 ],
 "metadata": {
  "kernelspec": {
   "display_name": "Python 3",
   "language": "python",
   "name": "python3"
  },
  "language_info": {
   "codemirror_mode": {
    "name": "ipython",
    "version": 3
   },
   "file_extension": ".py",
   "mimetype": "text/x-python",
   "name": "python",
   "nbconvert_exporter": "python",
   "pygments_lexer": "ipython3",
   "version": "3.8.5"
  }
 },
 "nbformat": 4,
 "nbformat_minor": 4
}
