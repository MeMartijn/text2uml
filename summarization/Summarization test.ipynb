{
 "cells": [
  {
   "cell_type": "code",
   "execution_count": 9,
   "metadata": {},
   "outputs": [
    {
     "name": "stdout",
     "output_type": "stream",
     "text": [
      "\n"
     ]
    }
   ],
   "source": [
    "from summarizer import Summarizer"
   ]
  },
  {
   "cell_type": "code",
   "execution_count": 23,
   "metadata": {},
   "outputs": [],
   "source": [
    "inp = \"\"\"\n",
    "Our colleagues at the service desk are responsible for the ordering process. But are generally just very nice people to have coffee with.\n",
    "Eventually, an order is placed by a specific customer. \n",
    "This customer will have a first name, last name, address, and birth date.\n",
    "The order consists of multiple line items. \n",
    "Each order has an order number, an entry date, a delivery status, and a description.\n",
    "A line item specifies a particular product, and defines the quantity that is ordered.\n",
    "\n",
    "A product is characterized by a name, a description, a product number, a price, a location.\n",
    "Restricted products and flammable products are types of products.\n",
    "\n",
    "Each order is shipped by a delivery company. The delivery company has a name and an address. \n",
    "MyCorp has an incredible relationship with our delivery company, ensuring the best delivery possible.\n",
    "\n",
    "There are two types of customer, namely gold customers, and regular customers.\n",
    "We are very thankful for our generous Gold customers. \n",
    "Gold customers have a discount level.\n",
    "Each customer has an account. The account has a balance, and a status.\n",
    "\n",
    "Each order has an invoice that is sent to the customer. \n",
    "An invoice has a date, status, amount payable, and invoice address.\n",
    "An invoice can be an initial invoice, or a late payment invoice.\n",
    "A payment is for a particular invoice. \n",
    "A payment has an amount, date, and  bank account. \n",
    "A payment can be a full payment, or a partial payment.\n",
    "\n",
    "A product has a stock level, and a reorder level.\n",
    "When the stock level drops below the reorder level, the product needs to be reordered from a supplier.\n",
    "\n",
    "As a result, a supply request is sent to a supplier. \n",
    "The supply request is for a certain product, and has an amount and a delivery date.\n",
    "The supplier submits an invoice for the product.\n",
    "\"\"\""
   ]
  },
  {
   "cell_type": "code",
   "execution_count": 24,
   "metadata": {
    "scrolled": true
   },
   "outputs": [
    {
     "name": "stdout",
     "output_type": "stream",
     "text": [
      "Our colleagues at the service desk are responsible for the ordering process. But are generally just very nice people to have coffee with. Eventually, an order is placed by a specific customer. This customer will have a first name, last name, address, and birth date. The order consists of multiple line items. Each order has an order number, an entry date, a delivery status, and a description. A line item specifies a particular product, and defines the quantity that is ordered. A product is characterized by a name, a description, a product number, a price, a location. Restricted products and flammable products are types of products. Each order is shipped by a delivery company. The delivery company has a name and an address. MyCorp has an incredible relationship with our delivery company, ensuring the best delivery possible. There are two types of customer, namely gold customers, and regular customers. We are very thankful for our generous Gold customers. An invoice has a date, status, amount payable, and invoice address. A payment has an amount, date, and  bank account. A payment can be a full payment, or a partial payment. A product has a stock level, and a reorder level. When the stock level drops below the reorder level, the product needs to be reordered from a supplier. As a result, a supply request is sent to a supplier. The supplier submits an invoice for the product.\n"
     ]
    }
   ],
   "source": [
    "result = model(inp, ratio=0.9)  # Ratio adjustable by user\n",
    "print(result)"
   ]
  },
  {
   "cell_type": "code",
   "execution_count": 11,
   "metadata": {},
   "outputs": [
    {
     "data": {
      "application/vnd.jupyter.widget-view+json": {
       "model_id": "e4059684e9f34016af9f0ed6f0d6c744",
       "version_major": 2,
       "version_minor": 0
      },
      "text/plain": [
       "HBox(children=(HTML(value='Downloading'), FloatProgress(value=0.0, max=1344997306.0), HTML(value='')))"
      ]
     },
     "metadata": {},
     "output_type": "display_data"
    },
    {
     "name": "stdout",
     "output_type": "stream",
     "text": [
      "\n"
     ]
    },
    {
     "data": {
      "application/vnd.jupyter.widget-view+json": {
       "model_id": "338a8f97fd1041c39c4cd04157f6ad64",
       "version_major": 2,
       "version_minor": 0
      },
      "text/plain": [
       "HBox(children=(HTML(value='Downloading'), FloatProgress(value=0.0, max=231508.0), HTML(value='')))"
      ]
     },
     "metadata": {},
     "output_type": "display_data"
    },
    {
     "name": "stdout",
     "output_type": "stream",
     "text": [
      "\n"
     ]
    },
    {
     "data": {
      "application/vnd.jupyter.widget-view+json": {
       "model_id": "cf3d3fe0b5ec44f984a61c5ac7b5e927",
       "version_major": 2,
       "version_minor": 0
      },
      "text/plain": [
       "HBox(children=(HTML(value='Downloading'), FloatProgress(value=0.0, max=28.0), HTML(value='')))"
      ]
     },
     "metadata": {},
     "output_type": "display_data"
    },
    {
     "name": "stdout",
     "output_type": "stream",
     "text": [
      "\n"
     ]
    },
    {
     "data": {
      "application/vnd.jupyter.widget-view+json": {
       "model_id": "992c36a16b834183a003601e4c48d623",
       "version_major": 2,
       "version_minor": 0
      },
      "text/plain": [
       "HBox(children=(HTML(value='Downloading'), FloatProgress(value=0.0, max=466062.0), HTML(value='')))"
      ]
     },
     "metadata": {},
     "output_type": "display_data"
    },
    {
     "name": "stdout",
     "output_type": "stream",
     "text": [
      "\n"
     ]
    },
    {
     "ename": "NameError",
     "evalue": "name 'body' is not defined",
     "output_type": "error",
     "traceback": [
      "\u001b[0;31m---------------------------------------------------------------------------\u001b[0m",
      "\u001b[0;31mNameError\u001b[0m                                 Traceback (most recent call last)",
      "\u001b[0;32m<ipython-input-11-10b171ee9d4a>\u001b[0m in \u001b[0;36m<module>\u001b[0;34m\u001b[0m\n\u001b[1;32m      1\u001b[0m \u001b[0mmodel\u001b[0m \u001b[0;34m=\u001b[0m \u001b[0mSummarizer\u001b[0m\u001b[0;34m(\u001b[0m\u001b[0;34m)\u001b[0m\u001b[0;34m\u001b[0m\u001b[0;34m\u001b[0m\u001b[0m\n\u001b[0;32m----> 2\u001b[0;31m \u001b[0mresult\u001b[0m \u001b[0;34m=\u001b[0m \u001b[0mmodel\u001b[0m\u001b[0;34m(\u001b[0m\u001b[0mbody\u001b[0m\u001b[0;34m,\u001b[0m \u001b[0mratio\u001b[0m\u001b[0;34m=\u001b[0m\u001b[0;36m0.2\u001b[0m\u001b[0;34m)\u001b[0m  \u001b[0;31m# Ratio adjustable by user\u001b[0m\u001b[0;34m\u001b[0m\u001b[0;34m\u001b[0m\u001b[0m\n\u001b[0m\u001b[1;32m      3\u001b[0m \u001b[0mprint\u001b[0m\u001b[0;34m(\u001b[0m\u001b[0mresult\u001b[0m\u001b[0;34m)\u001b[0m\u001b[0;34m\u001b[0m\u001b[0;34m\u001b[0m\u001b[0m\n",
      "\u001b[0;31mNameError\u001b[0m: name 'body' is not defined"
     ]
    }
   ],
   "source": [
    "model = Summarizer()\n"
   ]
  },
  {
   "cell_type": "code",
   "execution_count": null,
   "metadata": {},
   "outputs": [],
   "source": []
  }
 ],
 "metadata": {
  "kernelspec": {
   "display_name": "Python 3",
   "language": "python",
   "name": "python3"
  },
  "language_info": {
   "codemirror_mode": {
    "name": "ipython",
    "version": 3
   },
   "file_extension": ".py",
   "mimetype": "text/x-python",
   "name": "python",
   "nbconvert_exporter": "python",
   "pygments_lexer": "ipython3",
   "version": "3.8.5"
  }
 },
 "nbformat": 4,
 "nbformat_minor": 4
}
