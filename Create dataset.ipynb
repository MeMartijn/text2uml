{
 "cells": [
  {
   "cell_type": "code",
   "execution_count": 1,
   "metadata": {},
   "outputs": [],
   "source": [
    "import pandas as pd\n",
    "import requests\n",
    "import re\n",
    "from tqdm.auto import tqdm"
   ]
  },
  {
   "cell_type": "code",
   "execution_count": 79,
   "metadata": {},
   "outputs": [],
   "source": [
    "# Load overview of files\n",
    "df = pd.read_csv('data/UMLFiles_List_V2.0.csv', sep=',')\n",
    "\n",
    "# Enable tqdm for pandas\n",
    "tqdm.pandas()"
   ]
  },
  {
   "cell_type": "markdown",
   "metadata": {},
   "source": [
    "# Initial data cleaning"
   ]
  },
  {
   "cell_type": "code",
   "execution_count": 80,
   "metadata": {},
   "outputs": [
    {
     "name": "stdout",
     "output_type": "stream",
     "text": [
      "['png' 'xmi' 'uml' 'jpg' 'svg' 'jpeg' 'gif' 'bmp' '#VALUE!']\n"
     ]
    },
    {
     "data": {
      "application/vnd.jupyter.widget-view+json": {
       "model_id": "4ff179f4d76d4f25a12691e5b84e8dc3",
       "version_major": 2,
       "version_minor": 0
      },
      "text/plain": [
       "HBox(children=(HTML(value=''), FloatProgress(value=0.0, max=35766.0), HTML(value='')))"
      ]
     },
     "metadata": {},
     "output_type": "display_data"
    },
    {
     "name": "stdout",
     "output_type": "stream",
     "text": [
      "\n"
     ]
    }
   ],
   "source": [
    "# Get filetypes: we cannot use image files for scraping\n",
    "df['filetype'] = df['Model Link - Github'].apply(lambda x: x.split('.')[-1])\n",
    "\n",
    "# Check which filetypes are there\n",
    "print(df['filetype'].unique())\n",
    "\n",
    "# Remove rows with #VALUE! in it\n",
    "df = df[df['Model Link - Github'] != '#VALUE!']\n",
    "\n",
    "# Remove unusable file types\n",
    "df = df[df['filetype'].isin(['xmi', 'uml'])]\n",
    "\n",
    "# The dataframe contains GitHub URLs, not the \"raw\" files that we need\n",
    "# Function to get the raw file URL from the GitHub URL\n",
    "def get_raw_file(url):\n",
    "    response = requests.get(url)\n",
    "    data = response.text\n",
    "    targets = re.findall(r'href=\"(.+/raw/.+?)\"', data)\n",
    "    \n",
    "    try: \n",
    "        return 'https://github.com' + targets[0]\n",
    "    except:1\n",
    "        # Page no longer exists, add tag to remove later\n",
    "        return 'REMOVE'\n",
    "\n",
    "# Do the harvesting \n",
    "df['raw_filepath'] = df['Model Link - Github'].progress_apply(lambda x: get_raw_file(x))\n",
    "\n",
    "# Remove all (currently) non-existent file paths from the dataframe\n",
    "df = df[df['raw_filepath'] != 'REMOVE']"
   ]
  },
  {
   "cell_type": "code",
   "execution_count": 81,
   "metadata": {},
   "outputs": [],
   "source": [
    "# Save file for later use\n",
    "df.to_csv('data/cleaned_files.csv', sep=',', index=False)"
   ]
  },
  {
   "cell_type": "markdown",
   "metadata": {},
   "source": [
    "# Start wrangling"
   ]
  },
  {
   "cell_type": "code",
   "execution_count": 2,
   "metadata": {},
   "outputs": [],
   "source": [
    "df = pd.read_csv('data/cleaned_files.csv', sep=',')\n",
    "\n",
    "classes = []\n",
    "attributes = []"
   ]
  },
  {
   "cell_type": "markdown",
   "metadata": {},
   "source": [
    "## UML file types"
   ]
  },
  {
   "cell_type": "code",
   "execution_count": 24,
   "metadata": {},
   "outputs": [],
   "source": [
    "# UML file types\n",
    "umls = df[df['filetype'] == 'uml']"
   ]
  },
  {
   "cell_type": "code",
   "execution_count": null,
   "metadata": {},
   "outputs": [],
   "source": []
  }
 ],
 "metadata": {
  "kernelspec": {
   "display_name": "Python 3",
   "language": "python",
   "name": "python3"
  },
  "language_info": {
   "codemirror_mode": {
    "name": "ipython",
    "version": 3
   },
   "file_extension": ".py",
   "mimetype": "text/x-python",
   "name": "python",
   "nbconvert_exporter": "python",
   "pygments_lexer": "ipython3",
   "version": "3.8.5"
  }
 },
 "nbformat": 4,
 "nbformat_minor": 4
}
