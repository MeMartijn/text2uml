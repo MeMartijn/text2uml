{
 "cells": [
  {
   "cell_type": "code",
   "execution_count": 1,
   "metadata": {},
   "outputs": [],
   "source": [
    "import pandas as pd\n",
    "import requests\n",
    "import re\n",
    "from tqdm.auto import tqdm\n",
    "import json"
   ]
  },
  {
   "cell_type": "code",
   "execution_count": 3,
   "metadata": {},
   "outputs": [],
   "source": [
    "# Enable tqdm for pandas\n",
    "tqdm.pandas()"
   ]
  },
  {
   "cell_type": "code",
   "execution_count": 79,
   "metadata": {},
   "outputs": [],
   "source": [
    "# Load overview of files\n",
    "df = pd.read_csv('data/UMLFiles_List_V2.0.csv', sep=',')"
   ]
  },
  {
   "cell_type": "markdown",
   "metadata": {},
   "source": [
    "# Initial data cleaning"
   ]
  },
  {
   "cell_type": "code",
   "execution_count": 80,
   "metadata": {},
   "outputs": [
    {
     "name": "stdout",
     "output_type": "stream",
     "text": [
      "['png' 'xmi' 'uml' 'jpg' 'svg' 'jpeg' 'gif' 'bmp' '#VALUE!']\n"
     ]
    },
    {
     "data": {
      "application/vnd.jupyter.widget-view+json": {
       "model_id": "4ff179f4d76d4f25a12691e5b84e8dc3",
       "version_major": 2,
       "version_minor": 0
      },
      "text/plain": [
       "HBox(children=(HTML(value=''), FloatProgress(value=0.0, max=35766.0), HTML(value='')))"
      ]
     },
     "metadata": {},
     "output_type": "display_data"
    },
    {
     "name": "stdout",
     "output_type": "stream",
     "text": [
      "\n"
     ]
    }
   ],
   "source": [
    "# Get filetypes: we cannot use image files for scraping\n",
    "df['filetype'] = df['Model Link - Github'].apply(lambda x: x.split('.')[-1])\n",
    "\n",
    "# Check which filetypes are there\n",
    "print(df['filetype'].unique())\n",
    "\n",
    "# Remove rows with #VALUE! in it\n",
    "df = df[df['Model Link - Github'] != '#VALUE!']\n",
    "\n",
    "# Remove unusable file types\n",
    "df = df[df['filetype'].isin(['xmi', 'uml'])]\n",
    "\n",
    "# The dataframe contains GitHub URLs, not the \"raw\" files that we need\n",
    "# Function to get the raw file URL from the GitHub URL\n",
    "def get_raw_file(url):\n",
    "    response = requests.get(url)\n",
    "    data = response.text\n",
    "    targets = re.findall(r'href=\"(.+/raw/.+?)\"', data)\n",
    "    \n",
    "    try: \n",
    "        return 'https://github.com' + targets[0]\n",
    "    except:\n",
    "        # Page no longer exists, add tag to remove later\n",
    "        return 'REMOVE'\n",
    "\n",
    "# Do the harvesting \n",
    "df['raw_filepath'] = df['Model Link - Github'].progress_apply(lambda x: get_raw_file(x))\n",
    "\n",
    "# Remove all (currently) non-existent file paths from the dataframe\n",
    "df = df[df['raw_filepath'] != 'REMOVE']"
   ]
  },
  {
   "cell_type": "code",
   "execution_count": 4,
   "metadata": {},
   "outputs": [],
   "source": [
    "# Save file for later use\n",
    "df.to_csv('data/cleaned_files.csv', sep=',', index=False)"
   ]
  },
  {
   "cell_type": "markdown",
   "metadata": {},
   "source": [
    "# Start wrangling"
   ]
  },
  {
   "cell_type": "code",
   "execution_count": 4,
   "metadata": {},
   "outputs": [],
   "source": [
    "df = pd.read_csv('data/cleaned_files.csv', sep=',')"
   ]
  },
  {
   "cell_type": "markdown",
   "metadata": {},
   "source": [
    "## UML file types"
   ]
  },
  {
   "cell_type": "code",
   "execution_count": 5,
   "metadata": {},
   "outputs": [],
   "source": [
    "# UML file types\n",
    "umls = df[df['filetype'] == 'uml']\n",
    "\n",
    "# Saving regular expression patterns\n",
    "attr_pattern_list = []\n",
    "class_pattern_list = []"
   ]
  },
  {
   "cell_type": "markdown",
   "metadata": {},
   "source": [
    "## Defining patterns\n",
    "\n",
    "\n",
    "### Programming-like class definition \n",
    "\n",
    "[In this file,](https://raw.githubusercontent.com/2ndchance/1400/master/projects/lionheart/docs/class.uml) classes are loosely defined as they would be in a programming language, as follows:\n",
    "\n",
    "- class Unit\n",
    "- class Crown\n",
    "- class Knight\n",
    "- class Archer\n",
    "- class Infantry\n"
   ]
  },
  {
   "cell_type": "code",
   "execution_count": 6,
   "metadata": {},
   "outputs": [],
   "source": [
    "class_pattern_list.append(r'\\s[C|c]lass (\\w+)')"
   ]
  },
  {
   "cell_type": "markdown",
   "metadata": {},
   "source": [
    "### StarUML patterns\n",
    "\n",
    "[In this file](https://raw.githubusercontent.com/ahmadpaudji/DTTI/master/Data%20Analisis/Model/UML/Relasiclass/RelasiClass.uml), classes are defined as types of XPD tags with the type UMLClassView, holding - among a lot of information about styling - the name in a NameLabel:\n",
    "\n",
    "```\n",
    "<XPD:OBJ name=\"OwnedViews[1]\" type=\"UMLClassView\" guid=\"v3U+HcJ2A0Spjyh+TK3TXwAA\">\n",
    "    <XPD:REF name=\"Model\">kLKcecl2p0mgUzYZeLw6ugAA</XPD:REF>\n",
    "    <XPD:OBJ name=\"NameCompartment\" type=\"UMLNameCompartmentView\" guid=\"mWqid1MIQkOogFZpBhhw4wAA\">\n",
    "        <XPD:OBJ name=\"NameLabel\" type=\"LabelView\" guid=\"8MeBm9Aod0ONFTy5oBebLwAA\">\n",
    "            <XPD:ATTR name=\"FontStyle\" type=\"integer\">1</XPD:ATTR>\n",
    "            <XPD:ATTR name=\"Text\" type=\"string\">Restaurateur</XPD:ATTR>\n",
    "        </XPD:OBJ>\n",
    "        <XPD:OBJ name=\"StereotypeLabel\" type=\"LabelView\" guid=\"+JkN9MPr60W4Xzrm5xB/yAAA\">\n",
    "            <XPD:ATTR name=\"Visible\" type=\"boolean\">False</XPD:ATTR>\n",
    "        </XPD:OBJ>\n",
    "        <XPD:OBJ name=\"PropertyLabel\" type=\"LabelView\" guid=\"815dty7IP0CoNKguDRdc1gAA\">\n",
    "            <XPD:ATTR name=\"Visible\" type=\"boolean\">False</XPD:ATTR>\n",
    "        </XPD:OBJ>\n",
    "    </XPD:OBJ>\n",
    "    <XPD:OBJ name=\"AttributeCompartment\" type=\"UMLAttributeCompartmentView\" guid=\"a/fEJW1c8UWMqIqW2WiKggAA\">\n",
    "        <XPD:REF name=\"Model\">kLKcecl2p0mgUzYZeLw6ugAA</XPD:REF>\n",
    "    </XPD:OBJ>\n",
    "</XPD:OBJ>\n",
    "```\n",
    "\n",
    "Attributes have their own XPD tag with the type UMLAttribute:\n",
    "\n",
    "```\n",
    "<XPD:OBJ name=\"Attributes[0]\" type=\"UMLAttribute\" guid=\"X1GHr9/mo0qO3cVzMG4rygAA\">\n",
    "    <XPD:ATTR name=\"Name\" type=\"string\">idIngredient</XPD:ATTR>\n",
    "    <XPD:REF name=\"Owner\">vCJCqw/CaE6zNzyIYm3smwAA</XPD:REF>\n",
    "</XPD:OBJ>\n",
    "```"
   ]
  },
  {
   "cell_type": "code",
   "execution_count": 7,
   "metadata": {},
   "outputs": [],
   "source": [
    "attr_pattern_list.append(r'XPD:OBJ .+?type=\"UMLAttribute\" .+?type=\"string\">(.+?)<\\/XPD:ATTR>')\n",
    "class_pattern_list.append(r'<XPD:OBJ .+? type=\"UMLClassView\" .+? name=\"NameLabel\" .+?XPD:ATTR name=\"Text\".+?>(.+?)<\\/XPD:ATTR>')"
   ]
  },
  {
   "cell_type": "markdown",
   "metadata": {},
   "source": [
    "### Eclipse patterns\n",
    "\n",
    "[In this file,](https://raw.githubusercontent.com/yuanheng1988/sedr/master/WebRoot/WEB-INF/classes/iscas/nfs/itechs/ese/servlets/servlets.uml) classes and attributes are defined following the OMG UML2 standard, as follows:\n",
    "\n",
    "#### Class\n",
    "```<packagedElement xmi:type=\"uml:Class\" xmi:id=\"_Bkv94HeZEeCY6ocbkEuouA\" name=\"SingleServlet\">```\n",
    "\n",
    "#### Attribute\n",
    "```<ownedAttribute xmi:id=\"_G7hjY5X0EdyE2YnIO6QIiA\" name=\"name\" visibility=\"private\" type=\"_GXK5JJX0EdyE2YnIO6QIiA\">```"
   ]
  },
  {
   "cell_type": "code",
   "execution_count": 8,
   "metadata": {},
   "outputs": [],
   "source": [
    "attr_pattern_list.append(r'<ownedAttribute.+?name=\"(\\w+)\"')\n",
    "class_pattern_list.append(r'\"uml:Class\".+?name=\"(\\w+)\"')\n",
    "class_pattern_list.append(r'name=\"(\\w+)\".+?\"uml:Class\"')"
   ]
  },
  {
   "cell_type": "markdown",
   "metadata": {},
   "source": [
    "### Visual Studio patterns\n",
    "\n",
    "[In this file,](https://raw.githubusercontent.com/aa8391093/LixuecongOnlineRepository/master/2015.7.14_UML_Learning_eg_class_time/2015.7.14_UML_Learning_eg_class_time/ModelDefinition/2015.7.14_UML_Learning_eg_class_time.uml) classes are defined as their own tags, having properties as subtags:\n",
    "\n",
    "```\n",
    "<class\n",
    "    Id=\"1bcf7ec8-3157-477d-bbff-28c495793c6c\"\n",
    "    name=\"Time\"\n",
    "    isAbstract=\"false\"\n",
    "    isLeaf=\"false\"\n",
    "    isActiveClass=\"false\">\n",
    "    <ownedAttributesInternal>\n",
    "      <property\n",
    "        Id=\"98ba3fbd-3004-4f43-9e46-e0d026d5a0db\"\n",
    "        name=\"sec\"\n",
    "        visibility=\"Protected\"\n",
    "        isLeaf=\"false\"\n",
    "        isStatic=\"false\"\n",
    "        isReadOnly=\"false\"\n",
    "        isUnique=\"false\"\n",
    "        isDerived=\"false\"\n",
    "        isDerivedUnion=\"false\"\n",
    "        aggregation=\"None\"\n",
    "        isComposite=\"false\" />\n",
    "    </ownedAttributesInternal>\n",
    "</class>\n",
    "```"
   ]
  },
  {
   "cell_type": "code",
   "execution_count": 9,
   "metadata": {},
   "outputs": [],
   "source": [
    "attr_pattern_list.append(r'<property .+?name=\"(\\w+)\"(?=.+?<\\/ownedAttributesInternal>.+?<\\/class>)')\n",
    "class_pattern_list.append(r'<class.+?name=\"(\\w+)\"')"
   ]
  },
  {
   "cell_type": "markdown",
   "metadata": {},
   "source": [
    "### Nodes and edges patterns\n",
    "\n",
    "[In this file,](https://raw.githubusercontent.com/1berg/SimMA/master/Bilder/classes.uml) classes are defined as subproperties of the main ```classes``` object, and represented as a node: \n",
    "\n",
    "```\n",
    "<nodes>\n",
    "    <node x=\"285.0\" y=\"343.5\">classes.LightSensor</node>\n",
    "    <node x=\"246.99999999999994\" y=\"556.0\">classes.Simulator</node>\n",
    "    <node x=\"879.0\" y=\"256.0\">classes.Roboter</node>\n",
    "    <node x=\"681.0\" y=\"343.5\">classes.TouchSensor</node>\n",
    "    <node x=\"18.0\" y=\"311.0\">classes.Parcours</node>\n",
    "    <node x=\"948.0\" y=\"741.0\">classes.Delay</node>\n",
    "    <node x=\"0.0\" y=\"741.0\">classes.MotorPort</node>\n",
    "    <node x=\"755.0\" y=\"741.0\">classes.UltrasonicSensor</node>\n",
    "    <node x=\"547.0\" y=\"741.0\">classes.BildEinleser</node>\n",
    "    <node x=\"394.921875\" y=\"21.5\">classes.SensorPort</node>\n",
    "    <node x=\"0.0\" y=\"0.0\">classes.Leinwand</node>\n",
    "    <node x=\"323.0\" y=\"741.0\">classes.Button</node>\n",
    "    <node x=\"23.0\" y=\"1123.0\">classes.Motor</node>\n",
    "    <node x=\"26.5\" y=\"932.0\">classes.NXTRegulatedMotor</node>\n",
    "    <node x=\"483.0\" y=\"343.5\">classes.ColorSensor</node>\n",
    "</nodes>\n",
    "```"
   ]
  },
  {
   "cell_type": "code",
   "execution_count": 10,
   "metadata": {},
   "outputs": [],
   "source": [
    "class_pattern_list.append(r'classes.(\\w+)')"
   ]
  },
  {
   "cell_type": "markdown",
   "metadata": {},
   "source": [
    "### XML UML tag patterns\n",
    "\n",
    "[In this file,](https://raw.githubusercontent.com/arjunswaj/self-healing-water-networks/master/Documentation/UML/Class%20Diagram/class_diagram.uml) UML tags are used to define classes (```<UML:Class />```) and attributes (```<UML:Attribute />```): \n",
    "\n",
    "```\n",
    "<UML:Class xmi.id = '-84--88--128-68--5c1f21aa:14811985826:-8000:0000000000000962' name = 'Source' visibility = 'public' isSpecification = 'false' isRoot = 'false' isLeaf = 'false' isAbstract = 'false' isActive = 'false'>\n",
    "    <UML:Classifier.feature>\n",
    "        <UML:Attribute xmi.id = '-84--88--128-68--5c1f21aa:14811985826:-8000:0000000000000963' name = 'type' visibility = 'public' isSpecification = 'false' ownerScope = 'instance' changeability = 'changeable' targetScope = 'instance'>\n",
    "            <UML:StructuralFeature.multiplicity>\n",
    "                <UML:Multiplicity xmi.id = '-84--88--128-68--5c1f21aa:14811985826:-8000:0000000000000964'>\n",
    "                    <UML:Multiplicity.range>\n",
    "                        <UML:MultiplicityRange xmi.id = '-84--88--128-68--5c1f21aa:14811985826:-8000:0000000000000965' lower = '1' upper = '1'/>\n",
    "                    </UML:Multiplicity.range>\n",
    "                </UML:Multiplicity>\n",
    "            </UML:StructuralFeature.multiplicity>\n",
    "            <UML:StructuralFeature.type>\n",
    "                <UML:DataType href = 'http://argouml.org/profiles/uml14/default-uml14.xmi#-84-17--56-5-43645a83:11466542d86:-8000:000000000000087E'/>\n",
    "            </UML:StructuralFeature.type>\n",
    "        </UML:Attribute>\n",
    "    </UML:Classifier.feature>\n",
    "</UML:Class>\n",
    "```"
   ]
  },
  {
   "cell_type": "code",
   "execution_count": 11,
   "metadata": {},
   "outputs": [],
   "source": [
    "class_pattern_list.append(r'<UML:Class [^/]+?name ?= ?[\\'|\"]([\\w\\s]+?)[\\'|\"]')\n",
    "attr_pattern_list.append(r'<UML:Attribute [^/]+?name ?= ?[\\'|\"]([\\w\\s]+?)[\\'|\"]')"
   ]
  },
  {
   "cell_type": "markdown",
   "metadata": {},
   "source": [
    "## Search for patterns in files\n"
   ]
  },
  {
   "cell_type": "code",
   "execution_count": 12,
   "metadata": {},
   "outputs": [],
   "source": [
    "flatten = lambda t: [item for sublist in t for item in sublist]\n",
    "\n",
    "def get_classes_and_attributes_from_uml(uml):\n",
    "    # Remove all line breaks and other \"alternative\" whitespace\n",
    "    uml = uml.replace('\\n', ' ').replace('\\r', ' ').replace('\\t', ' ')\n",
    "    \n",
    "    # Gather classes and attributes using defined patterns\n",
    "    classes = flatten([re.findall(regex, uml) for regex in class_pattern_list])\n",
    "    attributes = flatten([re.findall(regex, uml) for regex in attr_pattern_list])\n",
    "    \n",
    "    # Save classes and attributes in list if they hold values\n",
    "    found_data = {}\n",
    "    if len(classes) > 0:\n",
    "        found_data['classes'] = list(dict.fromkeys(classes))\n",
    "    if len(attributes) > 0:\n",
    "        found_data['attributes'] = list(dict.fromkeys(attributes))\n",
    "    \n",
    "    return found_data\n",
    "\n",
    "def get_file_text(url):\n",
    "    # Get the file of the url\n",
    "    response = requests.get(url)\n",
    "    \n",
    "    return response.text\n",
    "\n",
    "def get_data_from_url(url):\n",
    "    text = get_file_text(url)\n",
    "    data = get_classes_and_attributes_from_uml(text)\n",
    "    \n",
    "    return data"
   ]
  },
  {
   "cell_type": "code",
   "execution_count": 13,
   "metadata": {},
   "outputs": [
    {
     "data": {
      "text/plain": [
       "{'classes': ['Absen',\n",
       "  'Model_absen',\n",
       "  'Model_tambahan',\n",
       "  'Model_izin',\n",
       "  'Izin',\n",
       "  'Model_kpi',\n",
       "  'KPI',\n",
       "  'Model_muhasabah',\n",
       "  'Muhasabah',\n",
       "  'Model_pegawai',\n",
       "  'Pegawai'],\n",
       " 'attributes': ['izin_rules array()',\n",
       "  '$tambah_pegawai_rules',\n",
       "  '$pegawai_rules']}"
      ]
     },
     "execution_count": 13,
     "metadata": {},
     "output_type": "execute_result"
    }
   ],
   "source": [
    "get_data_from_url('https://raw.githubusercontent.com/ahmadpaudji/DTTI/master/Data%20Analisis/Model/UML/Relasiclass/RelasiClass.uml')"
   ]
  },
  {
   "cell_type": "code",
   "execution_count": null,
   "metadata": {},
   "outputs": [
    {
     "data": {
      "application/vnd.jupyter.widget-view+json": {
       "model_id": "542f275dcf5e4ccb803b3f73183492fc",
       "version_major": 2,
       "version_minor": 0
      },
      "text/plain": [
       "HBox(children=(HTML(value=''), FloatProgress(value=0.0, max=26872.0), HTML(value='')))"
      ]
     },
     "metadata": {},
     "output_type": "display_data"
    }
   ],
   "source": [
    "data_dict = {}\n",
    "\n",
    "for file in tqdm(umls['raw_filepath'].tolist()):\n",
    "    try:\n",
    "        data = get_data_from_url(file)\n",
    "\n",
    "        if len(data.keys()) > 0:\n",
    "            data_dict[file] = data\n",
    "    except:\n",
    "        print(file)"
   ]
  },
  {
   "cell_type": "code",
   "execution_count": null,
   "metadata": {},
   "outputs": [],
   "source": [
    "with open('data/uml_extracted_metadata.json', 'w') as fp:\n",
    "    json.dump(data_dict, fp)"
   ]
  },
  {
   "cell_type": "code",
   "execution_count": null,
   "metadata": {},
   "outputs": [],
   "source": [
    "all_classes = []\n",
    "all_attrs = []\n",
    "\n",
    "for key in data_dict.keys():\n",
    "    if 'classes' in data_dict[key].keys():\n",
    "        all_classes.append(data_dict[key]['classes'])\n",
    "    \n",
    "    if 'attributes' in data_dict[key].keys():\n",
    "        all_attrs.append(data_dict[key]['attributes'])"
   ]
  }
 ],
 "metadata": {
  "kernelspec": {
   "display_name": "Python 3",
   "language": "python",
   "name": "python3"
  },
  "language_info": {
   "codemirror_mode": {
    "name": "ipython",
    "version": 3
   },
   "file_extension": ".py",
   "mimetype": "text/x-python",
   "name": "python",
   "nbconvert_exporter": "python",
   "pygments_lexer": "ipython3",
   "version": "3.8.5"
  }
 },
 "nbformat": 4,
 "nbformat_minor": 4
}
